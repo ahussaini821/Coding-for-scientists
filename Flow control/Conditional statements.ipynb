{
 "cells": [
  {
   "cell_type": "markdown",
   "metadata": {},
   "source": [
    "# Conditional structures"
   ]
  },
  {
   "cell_type": "markdown",
   "metadata": {},
   "source": [
    "In order to allow coding arbitrary operations, a programming language needs to provide three type of control structures to steer the execution flow:\n",
    "* sequential execution\n",
    "    * commands executed in the order in which they are written\n",
    "    * what we have seen so far\n",
    "* **conditional execution**\n",
    "    * branch on conditions\n",
    "    * different parts of code executed depending on data\n",
    "* loops\n",
    "    * repeat a set of actions many times"
   ]
  },
  {
   "cell_type": "markdown",
   "metadata": {},
   "source": [
    "# Conditional statements: if-else"
   ]
  },
  {
   "cell_type": "markdown",
   "metadata": {},
   "source": [
    "The *if-else* statement is the basic conditional, present in most programming languages. In detail, it looks like this:\n",
    "```\n",
    "if CONDITION:\n",
    "    Block1\n",
    "else:\n",
    "    Block2\n",
    "```\n",
    "Example:"
   ]
  },
  {
   "cell_type": "code",
   "execution_count": 1,
   "metadata": {
    "collapsed": true
   },
   "outputs": [
    {
     "name": "stdout",
     "output_type": "stream",
     "text": [
      "Brew\n"
     ]
    }
   ],
   "source": [
    "kettle_temp=95\n",
    "if kettle_temp>90:\n",
    "    print \"Brew\"\n",
    "else:\n",
    "    print \"Wait\"\n"
   ]
  },
  {
   "cell_type": "markdown",
   "metadata": {},
   "source": [
    "Or, if no alternative action is required:"
   ]
  },
  {
   "cell_type": "code",
   "execution_count": 2,
   "metadata": {},
   "outputs": [],
   "source": [
    "a=2+2\n",
    "if a!=4: # != means \"not equal\"\n",
    "    print \"Madness!\""
   ]
  },
  {
   "cell_type": "markdown",
   "metadata": {},
   "source": [
    "### Watch your tabs"
   ]
  },
  {
   "cell_type": "markdown",
   "metadata": {},
   "source": [
    "In the example above, indentation is essential. This won't work:"
   ]
  },
  {
   "cell_type": "code",
   "execution_count": 3,
   "metadata": {
    "collapsed": true
   },
   "outputs": [
    {
     "ename": "IndentationError",
     "evalue": "expected an indented block (<ipython-input-3-2aebd39e116b>, line 3)",
     "output_type": "error",
     "traceback": [
      "\u001b[0;36m  File \u001b[0;32m\"<ipython-input-3-2aebd39e116b>\"\u001b[0;36m, line \u001b[0;32m3\u001b[0m\n\u001b[0;31m    print \"Brew\"\u001b[0m\n\u001b[0m        ^\u001b[0m\n\u001b[0;31mIndentationError\u001b[0m\u001b[0;31m:\u001b[0m expected an indented block\n"
     ]
    }
   ],
   "source": [
    "kettle_temp=95\n",
    "if kettle_temp>90:\n",
    "print \"Brew\"\n",
    "else:\n",
    "print \"Wait\""
   ]
  },
  {
   "cell_type": "markdown",
   "metadata": {},
   "source": [
    "Indentation marks a **block**. You can think of a block as a group of statements that behaves like a single statement from the point of view of if/else, loops, function definitions, etc. Example: "
   ]
  },
  {
   "cell_type": "code",
   "execution_count": 4,
   "metadata": {
    "collapsed": true
   },
   "outputs": [
    {
     "name": "stdout",
     "output_type": "stream",
     "text": [
      "Boyle's law:  A watched kettle never Boyles :)\n",
      "Ending indentation will end the block - this line always runs\n"
     ]
    }
   ],
   "source": [
    "kettle_temp=90\n",
    "if kettle_temp==100: # Note the `double equals'\n",
    "    # this is a block containing one statement\n",
    "    print \"Boiling\"\n",
    "else:\n",
    "    # this is another block containing 2 statements\n",
    "    print \"Boyle's law: \", # the trailing ',' means print on same line\n",
    "    print \"A watched kettle never Boyles :)\"\n",
    "print \"Ending indentation will end the block - this line always runs\"\n"
   ]
  },
  {
   "cell_type": "markdown",
   "metadata": {},
   "source": [
    "# Conditional statements: if-elif-else"
   ]
  },
  {
   "cell_type": "markdown",
   "metadata": {},
   "source": [
    "We can code more than two alternatives using the *elif* keyword"
   ]
  },
  {
   "cell_type": "code",
   "execution_count": 5,
   "metadata": {
    "collapsed": true
   },
   "outputs": [
    {
     "name": "stdout",
     "output_type": "stream",
     "text": [
      "Brew English breakfast\n",
      "...or, you can have a beer\n"
     ]
    }
   ],
   "source": [
    "kettle_temp=96\n",
    "if kettle_temp>=95: # Note the `double equals'\n",
    "    print \"Brew English breakfast\"\n",
    "elif kettle_temp>=90:\n",
    "    print \"Brew green tea\"\n",
    "else:\n",
    "    print \"Boyle's law: \", \n",
    "    print \"A watched kettle never Boyles :)\"\n",
    "print \"...or, you can have a beer\""
   ]
  },
  {
   "cell_type": "markdown",
   "metadata": {},
   "source": [
    "Note that only the first test that's true triggers the execution of the corresponding block. For instance, if *kettle_temp* is 96 then it is also larger than 90, but \"Brew green tea\" is not printed."
   ]
  },
  {
   "cell_type": "markdown",
   "metadata": {},
   "source": [
    "# Boolean expressions"
   ]
  },
  {
   "cell_type": "markdown",
   "metadata": {},
   "source": [
    "The condition in an if statement is a Boolean expression. That is anything that is either *True* or *False*, typically the output of **comparison operators**, see http://www.tutorialspoint.com/python/comparison_operators_example.htm for a list and an example. Here are the main ones:\n",
    "\n",
    "| Operator | Description   |\n",
    "|----------|------------|\n",
    "| ==       | equality   |\n",
    "| != or <> | not equal  |\n",
    "| > or <   | greater/less than |\n",
    "| >= and <= | same with equality |\n",
    "\n",
    "Example:"
   ]
  },
  {
   "cell_type": "code",
   "execution_count": 6,
   "metadata": {
    "collapsed": true
   },
   "outputs": [
    {
     "name": "stdout",
     "output_type": "stream",
     "text": [
      "True\n",
      "True\n",
      "False\n",
      "False\n",
      "True\n"
     ]
    }
   ],
   "source": [
    "a=5\n",
    "print a==5   # True\n",
    "print a!=6   # True\n",
    "print a <> 5 # False\n",
    "print 3>5    # False\n",
    "print 5<=a  #True"
   ]
  },
  {
   "cell_type": "markdown",
   "metadata": {},
   "source": [
    "The same operators can be applied to strings:"
   ]
  },
  {
   "cell_type": "code",
   "execution_count": 7,
   "metadata": {
    "collapsed": true
   },
   "outputs": [
    {
     "name": "stdout",
     "output_type": "stream",
     "text": [
      "True\n",
      "False\n"
     ]
    }
   ],
   "source": [
    "a=\"Beast\"\n",
    "b=\"Animal\"\n",
    "print a>b # Alphabetical order\n",
    "print \"a\">\"b\" # Still alphabetical order!"
   ]
  },
  {
   "cell_type": "markdown",
   "metadata": {},
   "source": [
    "You can combine several comparison operators with each other using **relational operators**:\n",
    "\n",
    "| Operator  | Name        | Description                                             |\n",
    "|:-----------:|-------------|---------------------------------------------------------|\n",
    "|  and      | logical AND | True if and only if both operands are true              |\n",
    "|  or       | logical OR  | True if at least one operand is true                    |\n",
    "|  not      | logical NOT | True if operand false and vice-versa                    |\n",
    "\n",
    "Example:"
   ]
  },
  {
   "cell_type": "code",
   "execution_count": 8,
   "metadata": {
    "collapsed": true
   },
   "outputs": [
    {
     "name": "stdout",
     "output_type": "stream",
     "text": [
      "False\n",
      "True\n",
      "True\n"
     ]
    }
   ],
   "source": [
    "print (3<2) and (5>4)\n",
    "print (3<2) or  (5>4)\n",
    "print not (3<2)"
   ]
  },
  {
   "cell_type": "markdown",
   "metadata": {},
   "source": [
    "Of course, you normally deal with variables of unknown value:"
   ]
  },
  {
   "cell_type": "code",
   "execution_count": 12,
   "metadata": {
    "collapsed": true
   },
   "outputs": [
    {
     "name": "stdout",
     "output_type": "stream",
     "text": [
      "Temperature? 93\n",
      "Type of tea? green\n",
      "Brew\n"
     ]
    }
   ],
   "source": [
    "kettle_temp=int(raw_input(\"Temperature? \"))\n",
    "tea=raw_input(\"Type of tea? \")\n",
    "if ( ((kettle_temp>=90) and (kettle_temp<95) and (tea==\"green\")) or # open bracket means that...\n",
    "     ((kettle_temp>95) and (tea==\"breakfast\")) ):  # ...this line continues the previous one\n",
    "        print \"Brew\"\n",
    "else:\n",
    "        print \"Nope\""
   ]
  },
  {
   "cell_type": "markdown",
   "metadata": {},
   "source": [
    "# Conditional expressions"
   ]
  },
  {
   "cell_type": "markdown",
   "metadata": {},
   "source": [
    "The *if/else* constructs explored above are *statements*, and as such do not return any value. Sometimes we would like a shorthand notation for an expression that changes value according to some condition. For instance:"
   ]
  },
  {
   "cell_type": "code",
   "execution_count": 13,
   "metadata": {
    "collapsed": true
   },
   "outputs": [
    {
     "name": "stdout",
     "output_type": "stream",
     "text": [
      "212\n",
      "32\n"
     ]
    }
   ],
   "source": [
    "Celsius=False\n",
    "boiling_point=100 if Celsius else 212\n",
    "freezing_point= 0 if Celsius else 32\n",
    "print boiling_point\n",
    "print freezing_point"
   ]
  },
  {
   "cell_type": "markdown",
   "metadata": {},
   "source": [
    "Another example (note that here we have to have an else in any case, even if when a>=0 we do not want to change anything - the expression still needs to yield some value):"
   ]
  },
  {
   "cell_type": "code",
   "execution_count": 14,
   "metadata": {
    "collapsed": true
   },
   "outputs": [
    {
     "name": "stdout",
     "output_type": "stream",
     "text": [
      "1\n"
     ]
    }
   ],
   "source": [
    "a=-1\n",
    "a=-a if a<0 else a # absolute value\n",
    "print a"
   ]
  },
  {
   "cell_type": "markdown",
   "metadata": {},
   "source": [
    "# Reminder: list comprehensions"
   ]
  },
  {
   "cell_type": "markdown",
   "metadata": {},
   "source": [
    "We already  encountered a conditional before:"
   ]
  },
  {
   "cell_type": "code",
   "execution_count": 15,
   "metadata": {
    "collapsed": true
   },
   "outputs": [
    {
     "name": "stdout",
     "output_type": "stream",
     "text": [
      "[0, 1, 2, 3, 4, 5, 6, 7, 8, 9]\n",
      "[0, 1, 2, 3, 4]\n"
     ]
    }
   ],
   "source": [
    "l=range(0,10)\n",
    "print l\n",
    "a=[x for x in l if x< 5]\n",
    "print a "
   ]
  },
  {
   "cell_type": "code",
   "execution_count": null,
   "metadata": {},
   "outputs": [],
   "source": []
  }
 ],
 "metadata": {
  "kernelspec": {
   "display_name": "Python 2",
   "language": "python",
   "name": "python2"
  },
  "language_info": {
   "codemirror_mode": {
    "name": "ipython",
    "version": 2
   },
   "file_extension": ".py",
   "mimetype": "text/x-python",
   "name": "python",
   "nbconvert_exporter": "python",
   "pygments_lexer": "ipython2",
   "version": "2.7.5"
  }
 },
 "nbformat": 4,
 "nbformat_minor": 1
}
