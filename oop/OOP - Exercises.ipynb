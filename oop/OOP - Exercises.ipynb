{
 "cells": [
  {
   "cell_type": "markdown",
   "metadata": {},
   "source": [
    "### Counting sheep (or anything else)"
   ]
  },
  {
   "cell_type": "markdown",
   "metadata": {},
   "source": [
    "Write a class called ```Counter``` that represents a simple counter. It should have a ```self.count``` attribute that starts from 0. Also it should have a ```self.max``` attribute that represents a limit for the count. Code the following methods:\n",
    "* ```.__init__(self, m)``` constructor. Set ```self.max``` to ```m``` and ```self.count``` to 0\n",
    "* ```.increment(self)``` increase the count if it is smaller than the max, otherwise complain\n",
    "* ```.decrement(self)``` decrease the count if it is larger than zero, otherwise complain\n",
    "* ```.reset(self)``` reset counter to 0\n",
    "* ```.__str__(self)``` print a message such as \"5 out of 10 and counting\", assuming 5 is the count and 10 the max\n",
    "\n",
    "Write a test program for your counter class. Allocate two objects of type ```Counter```: one called ```sheeps``` with a maximum of 4 and one called ```chicks``` with a maximum of 6. Program a while loop to keep asking the user for input. Process input as following:\n",
    "* \"baaa\" increment sheep counter\n",
    "* \"egg\" increment chicken counter\n",
    "* \"wolf\" decrement sheep counter\n",
    "* \"fox\" decrement chicken counter\n",
    "* \"market\" reset both counters\n",
    "* \"quit\" exit\n",
    "\n",
    "Print the two counters after each iteration."
   ]
  },
  {
   "cell_type": "code",
   "execution_count": null,
   "metadata": {},
   "outputs": [],
   "source": [
    "class Counter:\n",
    "    def __init__(self, m):\n",
    "        self.max = m\n",
    "        self.count = 0\n",
    "    \n",
    "    def increment(self):\n",
    "        if self.count < self.max:\n",
    "            self.count += 1\n",
    "        else:\n",
    "            print \"complain\"\n",
    "    \n",
    "    def decrement(self):\n",
    "        if self.count > 0:\n",
    "            self.count -= 1\n",
    "        else:\n",
    "            print \"complain\"\n",
    "    \n",
    "    def reset(self):\n",
    "        count = 0\n",
    "    \n",
    "    def __str__(self):\n",
    "        return \"{} out of {}\".format(self.count,self.max)\n",
    "        \n",
    "sheeps = Counter(4)\n",
    "chicks = CounterPlus(6)\n",
    "done = False\n",
    "\n",
    "while not done:\n",
    "    user_input = raw_input(\"Enter something: \")\n",
    "    if user_input == \"baaa\":\n",
    "        sheeps.increment()\n",
    "    elif user_input == \"egg\":\n",
    "        chicks.increment()\n",
    "    elif user_input == \"fox\":\n",
    "        chicks.decrement()\n",
    "    elif user_input == \"wolf\":\n",
    "        sheeps.decrement()\n",
    "    elif user_input == \"market\":\n",
    "        sheeps.reset()\n",
    "        chicks.reset()\n",
    "    elif user_input == \"quit\":\n",
    "        done = True\n",
    "\n",
    "print sheeps\n",
    "print chicks\n",
    "    \n"
   ]
  },
  {
   "cell_type": "markdown",
   "metadata": {},
   "source": [
    "### Subsidised computing"
   ]
  },
  {
   "cell_type": "markdown",
   "metadata": {},
   "source": [
    "Derive a ```CounterPlus``` class from ```Counter```. Within it, define a ```.add(self, n)``` method that adds ```n``` to the count (capping the count to the maximum if needed).\n",
    "\n",
    "Modify the previous program so that it uses a ```Counter``` for sheep and ```CounterPlus``` for chicken. When the user enters \"subsidy\", add 5 to the number of chicken."
   ]
  },
  {
   "cell_type": "code",
   "execution_count": 3,
   "metadata": {},
   "outputs": [
    {
     "name": "stdout",
     "output_type": "stream",
     "text": [
      "Enter something: subsidy\n",
      "Enter something: quit\n",
      "0 out of 4\n",
      "5 out of 6\n"
     ]
    }
   ],
   "source": [
    "class Counter:\n",
    "    def __init__(self, m):\n",
    "        self.max = m\n",
    "        self.count = 0\n",
    "    \n",
    "    def increment(self):\n",
    "        if self.count < self.max:\n",
    "            self.count += 1\n",
    "        else:\n",
    "            print \"complain\"\n",
    "    \n",
    "    def decrement(self):\n",
    "        if self.count > 0:\n",
    "            self.count -= 1\n",
    "        else:\n",
    "            print \"complain\"\n",
    "    \n",
    "    def reset(self):\n",
    "        self.count = 0\n",
    "    \n",
    "    def __str__(self):\n",
    "        return \"{} out of {}\".format(self.count,self.max)\n",
    "\n",
    "\n",
    "\n",
    "\n",
    "\n",
    "class CounterPlus(Counter):\n",
    "    def add(self, n):\n",
    "        self.count += n\n",
    "        if self.count > self.max:\n",
    "            self.count = self.max\n",
    "            \n",
    "sheeps = Counter(4)\n",
    "chicks = CounterPlus(6)\n",
    "done = False\n",
    "\n",
    "while not done:\n",
    "    user_input = raw_input(\"Enter something: \")\n",
    "    if user_input == \"baaa\":\n",
    "        sheeps.increment()\n",
    "    elif user_input == \"egg\":\n",
    "        chicks.increment()\n",
    "    elif user_input == \"fox\":\n",
    "        chicks.decrement()\n",
    "    elif user_input == \"wolf\":\n",
    "        sheeps.decrement()\n",
    "    elif user_input == \"market\":\n",
    "        sheeps.reset()\n",
    "        chicks.reset()\n",
    "    elif user_input == \"quit\":\n",
    "        done = True\n",
    "    elif user_input == \"subsidy\":\n",
    "        chicks.add(5)\n",
    "\n",
    "print sheeps\n",
    "print chicks\n",
    "            "
   ]
  },
  {
   "cell_type": "markdown",
   "metadata": {},
   "source": [
    "### Pizza and no beer"
   ]
  },
  {
   "cell_type": "markdown",
   "metadata": {},
   "source": [
    "A pizzaiolo traditionally manages his orders using a metal pin or skewer. New orders are written on a piece of paper by the waiters and skewered on top of the heap. The pizzaiolo always tears off the lowest paper and bakes that. This is a practical implementation of a first-in-first-out (FIFO) queue.\n",
    "\n",
    "Write a class called ```Skewer``` that has two methods: ```.order(self, pizza)``` that adds an order to the top of the skewer and ```.bake(self)``` that returns and removes the oldest order from the bottom of the skewer  (these are often unimaginatively called push() and pop() in CS jargon; push adds to the tail of the queue, and pop removes from its head). Design the internal workings of the class so that it functions as it should, in a first-come-first-served fashion (hint: you will need a list attribute to store the orders, this should be created by the constructor).\n",
    "\n",
    "Test by allocating an object of type Skewer and using it to order a \"margherita\", a \"capricciosa\" and a \"quattro stagioni\". Remember to ```.bake()``` them. Enjoy!"
   ]
  },
  {
   "cell_type": "code",
   "execution_count": 8,
   "metadata": {},
   "outputs": [
    {
     "name": "stdout",
     "output_type": "stream",
     "text": [
      "margherita\n",
      "capricciosa\n",
      "quattro stagioni\n"
     ]
    }
   ],
   "source": [
    "class Skewer:\n",
    "    def __init__(self):\n",
    "        self.orders = []\n",
    "    \n",
    "    def order(self, user_order):\n",
    "        self.orders.append(user_order)\n",
    "    \n",
    "    def bake(self):\n",
    "        return self.orders.pop(0)\n",
    "\n",
    "fifo = Skewer()\n",
    "fifo.order(\"margherita\")\n",
    "fifo.order(\"capricciosa\")\n",
    "fifo.order(\"quattro stagioni\")\n",
    "\n",
    "print fifo.bake()\n",
    "print fifo.bake()\n",
    "print fifo.bake()"
   ]
  },
  {
   "cell_type": "markdown",
   "metadata": {},
   "source": [
    "### Sequences"
   ]
  },
  {
   "cell_type": "markdown",
   "metadata": {},
   "source": [
    "Think about orgainising the code we have written so far for processing sequences into a small object oriented library. For instance you could have a class ```Sequence``` with attributes for the sequence itself, accession number, link to the database, and methods for reading it from/writing it to a FASTA file. You could then derive two classes, say ```DNASequence``` and ```ProteinSequence```, with specific functions - for instance statistics on aminoacid/nucleotide usage, translation, etc. Your code can even transparently invoke command line utilities such as BLAST, CLUSTALW, etc using the ```subprocess``` module, see https://docs.python.org/2/library/subprocess.html#module-subprocess\n",
    "\n",
    "Spend some time designing the library and use it to wrap suitable code from the past exercises."
   ]
  },
  {
   "cell_type": "code",
   "execution_count": null,
   "metadata": {},
   "outputs": [
    {
     "name": "stdout",
     "output_type": "stream",
     "text": [
      "This script is for combining FASTA sequences into one file with more \n",
      "features to come \n",
      "\n",
      "To use this program, simply enter filenames of fasta files you wish to \n",
      "combine 1 by 1, and simply enter stop when you are done inputting files\n"
     ]
    }
   ],
   "source": [
    "# Class for holding, reading and writing FASTA sequences\n",
    "class Sequence:\n",
    "    def __init__(self, accession_number, sequence):\n",
    "        \n",
    "        # List of sequences and accesion number for current file\n",
    "        self.sequences = sequence\n",
    "        self.accessions = accession_number\n",
    "    \n",
    "    def read(self, file_name):\n",
    "        fasta = open(file_name, \"r\")\n",
    "        lines = fasta.readlines()\n",
    "        # Necessary as sequences are split on multiple lines\n",
    "        current_sequence = []\n",
    "\n",
    "        # Go through current file, appending sequences and accession \n",
    "        # numbers into list\n",
    "        for x in lines:\n",
    "            if \">\" in x:\n",
    "                \n",
    "                self.accessions.append(x)\n",
    "                \n",
    "                # Necessary as sequences are split on multiple lines\n",
    "                if len(current_sequence) > 0:\n",
    "                    self.sequences.append(''.join(current_sequence))\n",
    "                    current_sequence = []\n",
    "\n",
    "                \n",
    "\n",
    "            else:\n",
    "                current_sequence.append(x)\n",
    "        \n",
    "        # Make sure to append last line of sequence\n",
    "        self.sequences.append(''.join(current_sequence))\n",
    "        current_sequence = []\n",
    "\n",
    "        \n",
    "\n",
    "\n",
    "    def write(self, output_name):\n",
    "        new_file = open(output_name, \"a\")\n",
    "        for i in range(len(self.sequences)):\n",
    "            new_file.write(self.accessions[i])\n",
    "            new_file.write(self.sequences[i])\n",
    "            \n",
    "done = False\n",
    "accession_number = []\n",
    "sequence = []\n",
    "current_sequence = Sequence(accession_number, sequence)\n",
    "\n",
    "print(\"This script is for combining FASTA sequences into one file with\"\n",
    "      \" more \\nfeatures to come \\n\")\n",
    "\n",
    "\n",
    "  \n",
    "\n",
    "print(\"To use this program, simply enter filenames of fasta files you\" \n",
    "      \" wish to \\ncombine 1 by 1, and simply enter stop when you are done\" \n",
    "      \" inputting files\")\n",
    "\n",
    "            \n",
    "while not done:\n",
    "    user_input = raw_input(\"Enter filename or stop: \")\n",
    "    \n",
    "    if user_input == \"stop\":\n",
    "        output_name = raw_input(\"What do you want to call the output\" \n",
    "                                \"file? \")\n",
    "        current_sequence.write(output_name)\n",
    "        done = True\n",
    "    \n",
    "    else:\n",
    "        # To make sure file exists\n",
    "        try:\n",
    "            current_sequence.read(user_input)\n",
    "        except:\n",
    "            print \"File does not exist in this directory\"\n",
    "\n",
    "        \n",
    "\n",
    "\n",
    "\n",
    "\n",
    "\n",
    "\n",
    "        "
   ]
  },
  {
   "cell_type": "code",
   "execution_count": null,
   "metadata": {},
   "outputs": [],
   "source": []
  }
 ],
 "metadata": {
  "kernelspec": {
   "display_name": "Python 2",
   "language": "python",
   "name": "python2"
  },
  "language_info": {
   "codemirror_mode": {
    "name": "ipython",
    "version": 2
   },
   "file_extension": ".py",
   "mimetype": "text/x-python",
   "name": "python",
   "nbconvert_exporter": "python",
   "pygments_lexer": "ipython2",
   "version": "2.7.5"
  }
 },
 "nbformat": 4,
 "nbformat_minor": 1
}
