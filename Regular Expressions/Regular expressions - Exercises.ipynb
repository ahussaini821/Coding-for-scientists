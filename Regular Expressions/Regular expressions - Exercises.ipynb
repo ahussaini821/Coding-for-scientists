{
 "cells": [
  {
   "cell_type": "markdown",
   "metadata": {},
   "source": [
    "### Mistery pattern"
   ]
  },
  {
   "cell_type": "markdown",
   "metadata": {},
   "source": [
    "What does the following regular expression match? Try to find out!\n",
    "```\n",
    "r\"([A-Za-z0-9.]+)@[A-Za-z0-9.]*qmul.ac.uk\"\n",
    "```"
   ]
  },
  {
   "cell_type": "code",
   "execution_count": null,
   "metadata": {},
   "outputs": [],
   "source": [
    "import re\n",
    "\n",
    "pattern=re.compile(r\"([A-Za-z0-9.]+[A-Za-z0-9.]*@qmul.ac.uk)\")\n",
    "email_list = \"bt15302@qmul.ac.uk \" + \"bklasdjbh \" + \"acw439@se19.qmul.ac.uk\"\n",
    "\n",
    "pattern.findall(email_list)\n",
    "\n",
    "# Your code here\n"
   ]
  },
  {
   "cell_type": "markdown",
   "metadata": {},
   "source": [
    "When you have got it, try using the ```.search()``` function to return a matching object and  print ```.group(1)``` of the matching object. This corresponds to whatever matches the content of the first (and only) pair of brackets () in the pattern. What is it?"
   ]
  },
  {
   "cell_type": "markdown",
   "metadata": {},
   "source": [
    "### FASTA headers"
   ]
  },
  {
   "cell_type": "markdown",
   "metadata": {},
   "source": [
    "Write a regular expression that parses the header of a FASTA file, and use it to store the various fields of the header in  a dictionary called ```protein_info```. For instance, from\n",
    "```\n",
    ">P04637|P53_HUMAN Cellular tumor antigen p53 - Homo sapiens (Human)\n",
    "```\n",
    "You should obtain\n",
    "```\n",
    "protein_info={\n",
    "    \"accession\": \"P04637\",\n",
    "    \"name\": \"P53_HUMAN Cellular tumor antigen p53\",\n",
    "    \"species\": \"Homo sapiens (Human)\"\n",
    "    }\n",
    "\n",
    "```\n",
    "Use grouping as in the example above, look for \"Grouping\" in this tutorial for more information:\n",
    "\n",
    "https://docs.python.org/2/howto/regex.html#regex-howto"
   ]
  },
  {
   "cell_type": "code",
   "execution_count": 13,
   "metadata": {},
   "outputs": [
    {
     "name": "stdout",
     "output_type": "stream",
     "text": [
      "P04637\n",
      "\n",
      "Homo sapiens \n",
      "\n",
      "P53_HUMAN Cellular tumor antigen p53 \n"
     ]
    }
   ],
   "source": [
    "import re\n",
    "header = \">P04637|P53_HUMAN Cellular tumor antigen p53 - Homo sapiens (Human)\"\n",
    "\n",
    "pattern = re.compile(r\">(\\w*)\\|(.*)-\\s(.*)\\(\")\n",
    "group = pattern.findall(header)\n",
    "\n",
    "\n",
    "protein_info = {\"accession\": group[0][0],\n",
    "                \"name\": group[0][1],\n",
    "                \"species\": group[0][2]\n",
    "               }\n",
    "print protein_info[\"accession\"]+\"\\n\"\n",
    "print protein_info[\"species\"]+\"\\n\"\n",
    "print protein_info[\"name\"]\n"
   ]
  },
  {
   "cell_type": "code",
   "execution_count": null,
   "metadata": {},
   "outputs": [],
   "source": [
    "import re\n",
    "fasta = open(\"chick.fasta\", \"r\")\n",
    "lines = fasta.readlines()\n",
    "header = \">P04637|P53_HUMAN Cellular tumor antigen p53 - Homo sapiens (Human)\"\n",
    "\n",
    "accession_pattern = re.compile(r\"\\|([A-Za-z0-9]+)\\|\")\n",
    "name_pattern = re.compile(r\"([A-Za-z0-9]+_+[A-Za-z0-9]+)[ \\t\\n\\r\\f\\v]\")\n",
    "headers_list =[]\n",
    "names_list = []\n",
    "for i in lines:\n",
    "\n",
    "    headers = accession_pattern.findall(i)\n",
    "    names = name_pattern.findall(i)\n",
    "    try:\n",
    "        headers_list.append(headers[0])\n",
    "        names_list.append(names[0])\n",
    "    except:\n",
    "        continue\n",
    "    \n",
    "    \n",
    "print headers_list\n",
    "print names_list"
   ]
  },
  {
   "cell_type": "markdown",
   "metadata": {},
   "source": [
    "### PROSITE patterns"
   ]
  },
  {
   "cell_type": "markdown",
   "metadata": {},
   "source": [
    "Look up the pattern for a family of proteins of your choice on the PROSITE database.\n",
    "\n",
    "http://prosite.expasy.org/\n",
    "\n",
    "Transform the pattern into a Python REGEXP and trawl the chicken proteome with it. Do the results  you obtain make sense?"
   ]
  },
  {
   "cell_type": "code",
   "execution_count": null,
   "metadata": {},
   "outputs": [],
   "source": [
    "import re\n",
    "\n",
    "pattern = re.compile(r\"[C]\\w[H]\\w[LIVMFY][C]\\w\\w[C][LIVMYA]\")\n",
    "infile = open(\"chick.fasta\", \"r\")\n",
    "\n",
    "seq = \"\"\n",
    "header = \"\"\n",
    "\n",
    "for line in infile:\n",
    "    if line[0] == \">\":\n",
    "        \n",
    "        if (pattern.search(seq)!=None):\n",
    "            print header\n",
    "        header = line.rstrip()\n",
    "        seq = \"\"\n",
    "    else:\n",
    "        seq+= line.rstrip()\n",
    "if (rgx.search(seq)!=None):\n",
    "    print header\n",
    "infile.close()\n",
    "\n",
    "\n"
   ]
  },
  {
   "cell_type": "markdown",
   "metadata": {},
   "source": [
    "### An interactive tutorial"
   ]
  },
  {
   "cell_type": "markdown",
   "metadata": {},
   "source": [
    "There are a number of interactive tutorials and puzzles on regular expressions online. Try this is one:\n",
    "    \n",
    "http://regexone.com/"
   ]
  },
  {
   "cell_type": "code",
   "execution_count": null,
   "metadata": {},
   "outputs": [],
   "source": []
  }
 ],
 "metadata": {
  "kernelspec": {
   "display_name": "Python 2",
   "language": "python",
   "name": "python2"
  },
  "language_info": {
   "codemirror_mode": {
    "name": "ipython",
    "version": 2
   },
   "file_extension": ".py",
   "mimetype": "text/x-python",
   "name": "python",
   "nbconvert_exporter": "python",
   "pygments_lexer": "ipython2",
   "version": "2.7.11"
  }
 },
 "nbformat": 4,
 "nbformat_minor": 1
}
