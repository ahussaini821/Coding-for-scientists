{
 "cells": [
  {
   "cell_type": "markdown",
   "metadata": {},
   "source": [
    "### Note"
   ]
  },
  {
   "cell_type": "markdown",
   "metadata": {},
   "source": [
    "You may find it easier to do some of these exercises directly in the notebook. Feel free to insert text with your comments or write your notes as you proceed. The notebook is yours for keeps."
   ]
  },
  {
   "cell_type": "markdown",
   "metadata": {},
   "source": [
    "### List basics"
   ]
  },
  {
   "cell_type": "markdown",
   "metadata": {},
   "source": [
    "Create an empty list [] called ```myList```.\n",
    "* Add the following words using the ``` .append() ``` method:\n",
    "    * \"the\"\n",
    "    * \"quick\"\n",
    "    * \"brown\"\n",
    "    * \"fox\"\n",
    "    * \"jumps\"\n",
    "    * \"over\"\n",
    "* Print the list to check all words are there\n",
    "* Create another list called ```barker``` containing the words \"the\", \"lazy\", \"dog\"\n",
    "* Use the ``` .extend() ``` method to add the ```barker``` list at the end of ```myList```\n",
    "* Print the result\n",
    "* Print the first word of the list\n",
    "* Print the word \"fox\" by indexing\n",
    "* Print the length of the list (use ```len()```) \n",
    "* Print the last word of the list using ```myList[len(myList) - 1]```\n",
    "* Print the last word of the list using ```myList[-1]```\n",
    "* Print the first three words and the last three words\n",
    "* Print the sublist [\"brown\", \"fox\"]\n",
    "* Use ```.remove()``` to delete \"the\"\n",
    "    * use the ```in``` operator to check if \"the\" is still in the list\n",
    "    * inspect the list; call ```.remove()``` again\n",
    "* Use ```.index('lazy')``` to find the index of the word \"lazy\".\n",
    "    * Check the result and store it in variable i\n",
    "* Use ```del myList[i]``` to delete the word \"lazy\"\n",
    "* Use ```.sort()``` to sort the list"
   ]
  },
  {
   "cell_type": "code",
   "execution_count": 16,
   "metadata": {},
   "outputs": [
    {
     "name": "stdout",
     "output_type": "stream",
     "text": [
      "['the', 'quick', 'brown', 'fox', 'jumps', 'over', 'lazy', 'dog']\n",
      "the\n",
      "fox\n",
      "8\n",
      "dog\n",
      "['the', 'quick', 'brown']\n",
      "['brown', 'fox']\n",
      "['brown', 'dog', 'fox', 'jumps', 'over', 'quick']\n"
     ]
    }
   ],
   "source": [
    "myList =[]\n",
    "myList.append(\"the\")\n",
    "myList.append(\"quick\")\n",
    "myList.append(\"brown\")\n",
    "myList.append(\"fox\")\n",
    "myList.append(\"jumps\")\n",
    "myList.append(\"over\")\n",
    "\n",
    "barker =[\"lazy\", \"dog\"]\n",
    "\n",
    "myList.extend(barker)\n",
    "print myList\n",
    "print myList[0]\n",
    "print myList[3]\n",
    "print len(myList)\n",
    "print myList[-1]\n",
    "print myList[0:3]\n",
    "print myList[2:4]\n",
    "myList.remove(\"the\")\n",
    "x = \"the\" in myList\n",
    "i = myList.index('lazy')\n",
    "del myList[i]\n",
    "myList.sort()\n",
    "print myList"
   ]
  },
  {
   "cell_type": "markdown",
   "metadata": {},
   "source": [
    "### List comprehensions"
   ]
  },
  {
   "cell_type": "markdown",
   "metadata": {},
   "source": [
    "Use the function ```range() ``` to create a lists of numbers from 0 till 10. Assign it to variable ```nums```"
   ]
  },
  {
   "cell_type": "code",
   "execution_count": 19,
   "metadata": {},
   "outputs": [
    {
     "name": "stdout",
     "output_type": "stream",
     "text": [
      "[0, 1, 2, 3, 4, 5, 6, 7, 8, 9, 10]\n"
     ]
    }
   ],
   "source": [
    "nums = range(0,11)\n",
    "print nums"
   ]
  },
  {
   "cell_type": "markdown",
   "metadata": {},
   "source": [
    "Use a comprehension to create a list of the treble of each number in ```nums```"
   ]
  },
  {
   "cell_type": "code",
   "execution_count": 21,
   "metadata": {},
   "outputs": [
    {
     "name": "stdout",
     "output_type": "stream",
     "text": [
      "[0, 3, 6, 9, 12, 15, 18, 21, 24, 27, 30]\n"
     ]
    }
   ],
   "source": [
    "treble = [3*x for x in nums]\n",
    "print treble"
   ]
  },
  {
   "cell_type": "markdown",
   "metadata": {},
   "source": [
    "Use your favourite editor to write a program that asks a user for a number between 1 and 10 and prints a list with the multiplication table for that number"
   ]
  },
  {
   "cell_type": "code",
   "execution_count": 22,
   "metadata": {},
   "outputs": [
    {
     "name": "stdout",
     "output_type": "stream",
     "text": [
      "Enter your number between 1 and 1010\n",
      "[1, 2, 3, 4, 5, 6, 7, 8, 9, 10]\n",
      "[10, 20, 30, 40, 50, 60, 70, 80, 90, 100]\n"
     ]
    }
   ],
   "source": [
    "num = int(raw_input(\"Enter your number between 1 and 10\"))\n",
    "lst = range(1,num+1)\n",
    "print lst\n",
    "table = [num*x for x in lst]\n",
    "print table\n"
   ]
  },
  {
   "cell_type": "markdown",
   "metadata": {},
   "source": [
    "Write a comprehension to create the list ```[\"#\", \"##\", \"###\",...]``` (up to 10 hashes)"
   ]
  },
  {
   "cell_type": "code",
   "execution_count": 25,
   "metadata": {},
   "outputs": [
    {
     "name": "stdout",
     "output_type": "stream",
     "text": [
      "['#', '##', '###', '####', '#####', '######', '#######', '########', '#########', '##########', '###########']\n"
     ]
    }
   ],
   "source": [
    "hashes = [\"#\"*(x+1) for x in nums]\n",
    "print hashes"
   ]
  },
  {
   "cell_type": "markdown",
   "metadata": {},
   "source": [
    "Write a list comprehension to compute the squares of all the numbers in ```nums```. Call this ```squares``` "
   ]
  },
  {
   "cell_type": "code",
   "execution_count": 26,
   "metadata": {},
   "outputs": [
    {
     "name": "stdout",
     "output_type": "stream",
     "text": [
      "[0, 1, 4, 9, 16, 25, 36, 49, 64, 81, 100]\n"
     ]
    }
   ],
   "source": [
    "squares = [x**2 for x in nums]\n",
    "print squares"
   ]
  },
  {
   "cell_type": "markdown",
   "metadata": {},
   "source": [
    "A trickier one: create a list that for each x in ```nums``` and y in ```squares``` contains the sentence \"The square of *x* is *y*\". Hint: try printing ```zip(nums, squares)```. Then, ```[ ... for (x,y) in zip(nums, squares)]```"
   ]
  },
  {
   "cell_type": "code",
   "execution_count": 32,
   "metadata": {},
   "outputs": [
    {
     "name": "stdout",
     "output_type": "stream",
     "text": [
      "['The square of 0 is 0.', 'The square of 1 is 1.', 'The square of 2 is 4.', 'The square of 3 is 9.', 'The square of 4 is 16.', 'The square of 5 is 25.', 'The square of 6 is 36.', 'The square of 7 is 49.', 'The square of 8 is 64.', 'The square of 9 is 81.', 'The square of 10 is 100.']\n"
     ]
    }
   ],
   "source": [
    "squares_list = []\n",
    "for i in range(len(nums)):\n",
    "    squares_list.append(\"The square of {} is {}.\".format(nums[i], squares[i]))\n",
    "    \n",
    "print squares_list\n",
    "    "
   ]
  },
  {
   "cell_type": "markdown",
   "metadata": {},
   "source": [
    "### Reading frames"
   ]
  },
  {
   "cell_type": "markdown",
   "metadata": {},
   "source": [
    "Write a program that takes a string of nucleotides as input and outputs it in all the possible reading frames (without translating it):\n",
    "* use ```list()``` to convert the input string to a list\n",
    "* index as appropriate to obtain the foward reading frames\n",
    "* use the ```.reverse()``` method to reverse the list\n",
    "* index as appropriate for the reverse reading frames\n",
    "* use ``` ''.join(some_list)``` to convert the lists back to strings for printing"
   ]
  },
  {
   "cell_type": "code",
   "execution_count": 142,
   "metadata": {},
   "outputs": [
    {
     "name": "stdout",
     "output_type": "stream",
     "text": [
      "TAA\n",
      "TCG\n",
      "TAT\n",
      "ACC\n",
      "GGG\n",
      "\n",
      "\n",
      "AAT\n",
      "CGT\n",
      "ATA\n",
      "CCG\n",
      "\n",
      "\n",
      "ATC\n",
      "GTA\n",
      "TAC\n",
      "CGG\n",
      "\n",
      "\n",
      "\n",
      "\n",
      "CGT\n",
      "ATA\n",
      "CCG\n",
      "\n",
      "\n",
      "GTA\n",
      "TAC\n",
      "CGG\n",
      "\n",
      "\n",
      "TAT\n",
      "ACC\n",
      "GGG\n",
      "\n",
      "\n",
      "\n",
      "\n",
      "TAC\n",
      "CGG\n",
      "\n",
      "\n",
      "ACC\n",
      "GGG\n",
      "\n",
      "\n",
      "CCG\n",
      "\n",
      "\n",
      "\n",
      "\n",
      "GGG\n",
      "\n",
      "\n"
     ]
    }
   ],
   "source": [
    "nucleotide = \"TAATCGTATACCGGG\"\n",
    "nu_list = list(nucleotide)\n",
    "\n",
    "final =[nu_list[x:] for x in range(len(nu_list)-2)]\n",
    "\n",
    "\n",
    "count =1 \n",
    "for i in final:\n",
    "    x = ''.join(i)\n",
    "    \n",
    "    y = list(x)\n",
    "    \n",
    "    final2 = [y[x:x+3] for x in range(0,len(y)-2,3)]\n",
    "    \n",
    "    for i in final2:\n",
    "        if count%4 != 0:\n",
    "            x = ''.join(i)\n",
    "            print x\n",
    "        \n",
    "    count += 1    \n",
    "    print \"\\n\"\n",
    "    \n",
    "\n",
    "\n",
    "#final =[]\n",
    "\n",
    "\n",
    "#for i in range(len(nucleotide)-1):\n",
    "    #codon = nu_list[i:-1]\n",
    "    #final.append(''.join(codon))\n",
    "\n",
    "#print final\n",
    "\n",
    "#nu_list.reverse()\n",
    "#print nucleo_rever\n",
    "\n",
    "#final2 = []\n",
    "#for i in range(len(nucleotide)-1):\n",
    "    #codon = nu_list[i:-1]\n",
    "    #final2.append(''.join(codon))\n",
    "\n",
    "#print final2\n",
    "\n",
    "\n",
    "   \n",
    "    "
   ]
  },
  {
   "cell_type": "markdown",
   "metadata": {},
   "source": [
    "### Dictionaries - the basics"
   ]
  },
  {
   "cell_type": "markdown",
   "metadata": {},
   "source": [
    "* Create an empty dictionary {} called ```stop```\n",
    "* Add the stop codons and their names, using the codon as the key:\n",
    "    * \"TAG\": \"amber\"\n",
    "    * \"TAA\": \"ochre\"\n",
    "    * \"TGA\": \"opal\"\n",
    "* Print the dictionary and notice the order of the elements\n",
    "* Print out the list of ```.keys()```\n",
    "* Print the list of ```.values()```\n",
    "* Print the list of ```.items()```\n",
    "* Use ```.has_key()``` to find out if \"ATG\" is a stop codon\n",
    "* Use ```.pop() ``` to delete key \"TAA\""
   ]
  },
  {
   "cell_type": "code",
   "execution_count": 66,
   "metadata": {},
   "outputs": [
    {
     "name": "stdout",
     "output_type": "stream",
     "text": [
      "{'TAG': 'amber', 'TGA': 'opal', 'TAA': 'ochre'}\n",
      "['TAG', 'TGA', 'TAA']\n",
      "['amber', 'opal', 'ochre']\n",
      "[('TAG', 'amber'), ('TGA', 'opal'), ('TAA', 'ochre')]\n",
      "{'TAG': 'amber', 'TGA': 'opal'}\n"
     ]
    }
   ],
   "source": [
    "stop = {\"TAG\": \"amber\", \"TAA\": \"ochre\", \"TGA\": \"opal\"}\n",
    "print stop\n",
    "print stop.keys()\n",
    "print stop.values()\n",
    "print stop.items()\n",
    "stop.has_key(\"ATG\")\n",
    "stop.pop(\"TAA\")\n",
    "print stop\n"
   ]
  },
  {
   "cell_type": "markdown",
   "metadata": {},
   "source": [
    "Cut and paste the ```stop``` dictionary into an editor. Write a program that asks the user for a nucleotide sequence, checks the last three letters and prints \"Stop codon:\" followed by the name of the stop codon if indeed there is one, or by \"none\" otherwise. Use the ```.get()``` method of Python dictionaries."
   ]
  },
  {
   "cell_type": "markdown",
   "metadata": {},
   "source": [
    "### With complements - take 2"
   ]
  },
  {
   "cell_type": "markdown",
   "metadata": {},
   "source": [
    "Write a program that takes a string of nucleotides as input and outputs its complement.\n",
    "* use ```list()``` to convert the input string to a list\n",
    "* build a dictionary with the complement of each nucleotide\n",
    "* use this dictionary in a list comprehension to generate the list of complements\n",
    "* use ``` ''.join(complement_list) ``` to turn the resulting list into a string"
   ]
  },
  {
   "cell_type": "code",
   "execution_count": 77,
   "metadata": {},
   "outputs": [
    {
     "name": "stdout",
     "output_type": "stream",
     "text": [
      "['T', 'T', 'G', 'A', 'G', 'C', 'T', 'T', 'G', 'A', 'T', 'G', 'C']\n",
      "AACTCGAACTACG\n"
     ]
    }
   ],
   "source": [
    "nucleotide = 'TTGAGCTTGATGC'\n",
    "list_nucleo = list(nucleotide)\n",
    "dict_nucleo = {\"T\": \"a\", \"A\": \"t\", \"G\": \"c\", \"C\": \"g\"}\n",
    "print list_nucleo\n",
    "\n",
    "\n",
    "complement_list = [dict_nucleo[x] for x in list_nucleo]\n",
    "complement = ''.join(complement_list)\n",
    "print complement.upper()\n",
    "\n"
   ]
  },
  {
   "cell_type": "markdown",
   "metadata": {},
   "source": [
    "### Counting bases"
   ]
  },
  {
   "cell_type": "markdown",
   "metadata": {},
   "source": [
    "Write a program that counts the percentage of each nucleotide in a DNA sequence. Your program should:\n",
    "* ask the user for a sequence\n",
    "* create a dictionary such as for instance\n",
    "    ``` {‘A': 1, ‘C': 4, ‘T': 2, ‘G': 2}```\n",
    "    (use the ```str.count``` method)\n",
    "* obtain the total length of the string using ```len()```\n",
    "* print out a nice table with the relative frequency of each nucleotide.\n",
    "\n",
    "For instance if the input is \"AACG\" your program should output\n",
    "```\n",
    "A: 0.5\n",
    "C: 0.25\n",
    "T: 0\n",
    "G: 0.25\n",
    "\n",
    "```\n",
    "Once you are satisfied that your program works, add the following line at the top:\n",
    "```\n",
    "from hivsequence import *\n",
    "```\n",
    "(this assumes that the hivsequence.py file is in the same directory as your program). This will import a nucleotide sequence from HIV as a string called ```hivSeq```. Modify your program so that it processes that string instead of keyboard input and see what you get.\n",
    "\n",
    "(adapted from https://kaspermunch.wordpress.com/2013/11/13/dictionaries/comment-page-1/)\n"
   ]
  },
  {
   "cell_type": "code",
   "execution_count": 123,
   "metadata": {},
   "outputs": [
    {
     "name": "stdout",
     "output_type": "stream",
     "text": [
      "A: 0.35884279476\n",
      "T: 0.224454148472\n",
      "C: 0.176200873362\n",
      "G: 0.240502183406\n"
     ]
    }
   ],
   "source": [
    "from hivsequence import *\n",
    "nucleotide = hivSeq\n",
    "nucleo_list = list(nucleotide)\n",
    "\n",
    "a_list = [x for x in nucleo_list if x == \"A\"]\n",
    "t_list = [x for x in nucleo_list if x == \"T\"]\n",
    "c_list = [x for x in nucleo_list if x == \"C\"]\n",
    "g_list = [x for x in nucleo_list if x == \"G\"]\n",
    "\n",
    "dict_nucleo = {'A': float(len(a_list)), \n",
    "               'T': float(len(t_list)), \n",
    "               'C': float(len(c_list)), \n",
    "               'G': float(len(g_list))}\n",
    "\n",
    "length = float(len(nucleotide))\n",
    "\n",
    "\n",
    "print \"A:\",float(dict_nucleo['A']/length)\n",
    "print \"T:\",float(dict_nucleo['T']/length)\n",
    "print \"C:\",float(dict_nucleo['C']/length)\n",
    "print \"G:\",float(dict_nucleo['G']/length)"
   ]
  },
  {
   "cell_type": "markdown",
   "metadata": {},
   "source": [
    "### Going bananas"
   ]
  },
  {
   "cell_type": "markdown",
   "metadata": {},
   "source": [
    "Create a dictionary called ```prices```. Add the following values:\n",
    "```\n",
    "\"banana\": 4,\n",
    "\"apple\": 2,\n",
    "\"orange\": 1.5,\n",
    "\"pear\": 3\n",
    "```\n",
    "\n",
    "Extract the list of prices and use ```sum()``` on that list to get the total price.\n",
    "\n"
   ]
  },
  {
   "cell_type": "code",
   "execution_count": 111,
   "metadata": {},
   "outputs": [
    {
     "name": "stdout",
     "output_type": "stream",
     "text": [
      "[1.5, 3, 4, 2]\n",
      "10.5\n"
     ]
    }
   ],
   "source": [
    "prices = {\"banana\": 4, \"apple\": 2, \"orange\": 1.5, \"pear\": 3}\n",
    "lst = prices.values()\n",
    "print lst\n",
    "print sum(lst)\n"
   ]
  },
  {
   "cell_type": "markdown",
   "metadata": {},
   "source": [
    "Then create another dictionary called ```stock``` that lists the number of items for each fruit, example\n",
    "```\n",
    "\"banana\": 5,\n",
    "\"apple\": 12,\n",
    "\"orange\": 6,\n",
    "\"pear\": 2\n",
    "```\n",
    "\n",
    "Compute the money you would make by selling all the ```stock``` at the given ```price```.\n",
    "Hint: start by obtaining the list of keys. Then use a list comprehension to multiply the\n",
    "stock by the price for each fruit.\n",
    "\n",
    "(adapted from https://erlerobotics.gitbooks.io/erle-robotics-learning-python-gitbook-free/content/lists/exercises_list_and_dictionaries.html)"
   ]
  },
  {
   "cell_type": "code",
   "execution_count": 115,
   "metadata": {},
   "outputs": [
    {
     "name": "stdout",
     "output_type": "stream",
     "text": [
      "[9.0, 6, 20, 24]\n",
      "59.0\n"
     ]
    }
   ],
   "source": [
    "stock = {\"banana\": 5, \"apple\": 12, \"orange\": 6, \"pear\": 2}\n",
    "items = stock.keys()\n",
    "money = [stock[x]*prices[x] for x in items]\n",
    "print money\n",
    "print sum(money)"
   ]
  },
  {
   "cell_type": "markdown",
   "metadata": {},
   "source": [
    "### Lord of the rings"
   ]
  },
  {
   "cell_type": "markdown",
   "metadata": {},
   "source": [
    "Lists and dictionaries can be listed in arbitary ways. It is very common to find a dictionary with some keys corresponding to lists. Try to do the following exercise (from https://erlerobotics.gitbooks.io/erle-robotics-learning-python-gitbook-free/content/lists/exercises_list_and_dictionaries.html):\n",
    "\n",
    "Given the following dictionary:\n",
    "```\n",
    "inventory = {\n",
    "    'gold' : 500,\n",
    "    'pouch' : ['flint', 'twine', 'gemstone'],\n",
    "    'backpack' : ['xylophone','dagger', 'bedroll','bread loaf']\n",
    "}\n",
    "```\n",
    "\n",
    "* Add a key to inventory called 'pocket'.\n",
    "* Set the value of 'pocket' to be a list consisting of the strings 'seashell', 'strange berry', and 'lint'.\n",
    "* ```.sort()``` the items in the list stored under the 'backpack' key.\n",
    "* Then ```.remove('dagger')``` from the list of items stored under the 'backpack' key.\n",
    "* Add 50 to the number stored under the 'gold' key.\n"
   ]
  },
  {
   "cell_type": "code",
   "execution_count": 117,
   "metadata": {},
   "outputs": [
    {
     "name": "stdout",
     "output_type": "stream",
     "text": [
      "{'pocket': ['seashell', 'strange berry', 'lint'], 'backpack': ['bedroll', 'bread loaf', 'xylophone'], 'pouch': ['flint', 'twine', 'gemstone'], 'gold': 500}\n"
     ]
    }
   ],
   "source": [
    "inventory = {\n",
    "    'gold' : 500,\n",
    "    'pouch' : ['flint', 'twine', 'gemstone'],\n",
    "    'backpack' : ['xylophone','dagger', 'bedroll','bread loaf']\n",
    "            }\n",
    "inventory['pocket'] = ['seashell', 'strange berry', 'lint']\n",
    "inventory['backpack'].sort()\n",
    "inventory['backpack'].remove('dagger')\n",
    "\n",
    "print inventory"
   ]
  },
  {
   "cell_type": "markdown",
   "metadata": {},
   "source": [
    "### Standard genetic code"
   ]
  },
  {
   "cell_type": "markdown",
   "metadata": {},
   "source": [
    "Create a dictionary called ```sgc```. Add at least the three keys \"Ala\", \"Leu\", \"Arg\". Each key should correspond to a list of all codons for that aminoacid (refer to \n",
    "http://en.wikipedia.org/wiki/Genetic_code)\n",
    "\n",
    "Print the dictionary. Use the ```in``` list operator to check if \"GTT\" codes for Alanine and if \"CTG\" codes for Leucine."
   ]
  },
  {
   "cell_type": "code",
   "execution_count": 127,
   "metadata": {},
   "outputs": [
    {
     "name": "stdout",
     "output_type": "stream",
     "text": [
      "{'Arg': ['CGT', 'CGC', 'CGA', 'CGG'], 'Leu': ['CTT', 'CTC', 'CTA', 'CTG'], 'Ala': ['GCT', 'GCC', 'GCA', 'GCG']}\n",
      "False\n",
      "True\n"
     ]
    }
   ],
   "source": [
    "sgc = {\n",
    "       \"Ala\": [\"GCT\", \"GCC\", \"GCA\", \"GCG\"], \n",
    "       \"Leu\": [\"CTT\", \"CTC\", \"CTA\", \"CTG\"], \n",
    "       \"Arg\": [\"CGT\", \"CGC\", \"CGA\", \"CGG\"]\n",
    "      }\n",
    "print sgc\n",
    "print \"GTT\" in sgc[\"Ala\"]\n",
    "print \"CTG\" in sgc[\"Leu\"]"
   ]
  },
  {
   "cell_type": "code",
   "execution_count": null,
   "metadata": {},
   "outputs": [],
   "source": []
  }
 ],
 "metadata": {
  "kernelspec": {
   "display_name": "Python 2",
   "language": "python",
   "name": "python2"
  },
  "language_info": {
   "codemirror_mode": {
    "name": "ipython",
    "version": 2
   },
   "file_extension": ".py",
   "mimetype": "text/x-python",
   "name": "python",
   "nbconvert_exporter": "python",
   "pygments_lexer": "ipython2",
   "version": "2.7.5"
  }
 },
 "nbformat": 4,
 "nbformat_minor": 1
}
