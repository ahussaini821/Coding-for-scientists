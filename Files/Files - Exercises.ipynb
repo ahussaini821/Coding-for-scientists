{
 "cells": [
  {
   "cell_type": "markdown",
   "metadata": {},
   "source": [
    "### Simple notepad"
   ]
  },
  {
   "cell_type": "markdown",
   "metadata": {},
   "source": [
    "Write a script called ```takenote.py``` that keeps asking the user for text and writes it to a file called ```notes.txt``` one line at a time, until the user writes the word ```exit``` alone on a line. This word should not be saved.\n",
    "\n",
    "Then  write a script called ```shownotes.py``` that prints the contents of ```notes.txt``` to the screen.\n",
    "\n",
    "Note that each time you run ```takenote.py```  file ```notes.txt``` is cleared. To avoid this, modify ```takenote.py``` so that it opens the file for appending instead than for writing - simly change 'w' into 'a' in the ```open()``` statement."
   ]
  },
  {
   "cell_type": "markdown",
   "metadata": {},
   "source": [
    "### Net charge of a protein"
   ]
  },
  {
   "cell_type": "markdown",
   "metadata": {},
   "source": [
    "It is possible to approximate the next charge of a protein by the following formula: start from\n",
    "```\n",
    "charge=-0.002\n",
    "```\n",
    "and for each occurrence of the residues in the following dictionary, add the corresponding charge:\n",
    "```\n",
    "AACharge={\"C\":-0.045, \"D\": -0.999, \"E\": -0.998, \"H\": 0.091, \"K\": 1.0, \"R\": 1.0,\"Y\": -0.001}\n",
    "```\n",
    "\n",
    "Write a program that asks the user for the name of a FASTA file, opens it, reads the sequence and  outputs the charge of the protein. \n",
    "\n",
    "(from Bassi, Python for Bioinformatics, exercise 4.13 and following and 5.4)"
   ]
  },
  {
   "cell_type": "code",
   "execution_count": 31,
   "metadata": {},
   "outputs": [
    {
     "name": "stdout",
     "output_type": "stream",
     "text": [
      "What is the name of your fasta file? P04637.fas\n",
      "-3.289\n"
     ]
    }
   ],
   "source": [
    "AACharge={\"C\":-0.045, \"D\": -0.999, \"E\": -0.998, \"H\": 0.091, \n",
    "          \"K\": 1.0, \"R\": 1.0,\"Y\": -0.001}\n",
    "\n",
    "name = raw_input(\"What is the name of your fasta file? \")\n",
    "fasta = open(name, \"r\")\n",
    "header = fasta.readline()\n",
    "\n",
    "charge = -0.002\n",
    "for i in fasta:\n",
    "    for x in i:\n",
    "        \n",
    "        if x in AACharge:\n",
    "            charge += AACharge[x]\n",
    "        else:\n",
    "            pass\n",
    "\n",
    "print charge\n"
   ]
  },
  {
   "cell_type": "markdown",
   "metadata": {},
   "source": [
    "### Parsing BLAST output"
   ]
  },
  {
   "cell_type": "markdown",
   "metadata": {},
   "source": [
    "Go to the BLAST web page\n",
    "http://blast.st-va.ncbi.nlm.nih.gov/Blast.cgi\n",
    "select protein-protein BLAST and enter a sequence of your liking. Search against the Swissprot database. Go to the \"Download\" link and save the Hit Table in text (txt) format.\n",
    "\n",
    "Write a program that opens the hit table and prints the accession codes of the search results and their E-value up to an E-value threshold chosen by the user. The entries of the table are described in the comments at the top of the file.\n",
    "\n",
    "When this works, download the Hit Table in csv format and modify your program to parse that file instead. "
   ]
  },
  {
   "cell_type": "code",
   "execution_count": 39,
   "metadata": {},
   "outputs": [
    {
     "name": "stdout",
     "output_type": "stream",
     "text": [
      "What is your E-value threshold? 2\n",
      "\n",
      "\n",
      "Accession number: P04637.4\n",
      "E-value:          0.0\n",
      "\n",
      "Accession number: P13481.1\n",
      "E-value:          0.0\n",
      "\n",
      "Accession number: P56423.2\n",
      "E-value:          0.0\n",
      "\n",
      "Accession number: Q9TTA1.1\n",
      "E-value:          0.0\n",
      "\n",
      "Accession number: O36006.1\n",
      "E-value:          0.0\n",
      "\n",
      "Accession number: Q95330.1\n",
      "E-value:          0.0\n",
      "\n",
      "Accession number: Q8SPZ3.1\n",
      "E-value:          0.0\n",
      "\n",
      "Accession number: Q9WUR6.1\n",
      "E-value:          0.0\n",
      "\n",
      "Accession number: Q00366.1\n",
      "E-value:          0.0\n",
      "\n",
      "Accession number: Q9TUB2.1\n",
      "E-value:          0.0\n",
      "\n",
      "Accession number: O09185.1\n",
      "E-value:          0.0\n",
      "\n",
      "Accession number: Q29537.2\n",
      "E-value:          0.0\n",
      "\n",
      "Accession number: P02340.4\n",
      "E-value:          0.0\n",
      "\n",
      "Accession number: P67938.1\n",
      "E-value:          0.0\n",
      "\n",
      "Accession number: P51664.1\n",
      "E-value:          0.0\n",
      "\n",
      "Accession number: P41685.1\n",
      "E-value:          0.0\n",
      "\n",
      "Accession number: P10361.1\n",
      "E-value:          0.0\n",
      "\n",
      "Accession number: Q64662.1\n",
      "E-value:          0.0\n",
      "\n",
      "Accession number: P79892.2\n",
      "E-value:          8.72e-154\n",
      "\n",
      "Accession number: Q29480.1\n",
      "E-value:          3.05e-125\n",
      "\n",
      "Accession number: P25035.1\n",
      "E-value:          4.83e-124\n",
      "\n",
      "Accession number: P07193.1\n",
      "E-value:          1.01e-118\n",
      "\n",
      "Accession number: P10360.1\n",
      "E-value:          4.95e-118\n",
      "\n",
      "Accession number: Q9W678.1\n",
      "E-value:          1.79e-117\n",
      "\n",
      "Accession number: P79734.1\n",
      "E-value:          8.08e-116\n",
      "\n",
      "Accession number: O93379.1\n",
      "E-value:          6.43e-105\n",
      "\n",
      "Accession number: O57538.1\n",
      "E-value:          1.54e-95\n",
      "\n",
      "Accession number: Q92143.2\n",
      "E-value:          3.55e-95\n",
      "\n",
      "Accession number: Q9W679.1\n",
      "E-value:          3.01e-88\n",
      "\n",
      "Accession number: O15350.1\n",
      "E-value:          3.30e-85\n",
      "\n",
      "Accession number: Q9XSK8.1\n",
      "E-value:          4.09e-85\n",
      "\n",
      "Accession number: Q9JJP2.1\n",
      "E-value:          1.18e-84\n",
      "\n",
      "Accession number: Q9H3D4.1\n",
      "E-value:          1.89e-83\n",
      "\n",
      "Accession number: O88898.1\n",
      "E-value:          2.10e-83\n",
      "\n",
      "Accession number: Q9JJP6.1\n",
      "E-value:          2.15e-83\n",
      "\n",
      "Accession number: P79820.2\n",
      "E-value:          3.51e-80\n",
      "\n",
      "Accession number: O12946.1\n",
      "E-value:          1.12e-79\n",
      "\n"
     ]
    }
   ],
   "source": [
    "import csv\n",
    "\n",
    "limit = float(raw_input(\"What is your E-value threshold? \"))\n",
    "print \"\\n\"\n",
    "fasta = open(\"blast.txt\", \"r\")\n",
    "\n",
    "header = \"\"\n",
    "for i in range(7):\n",
    "    header += fasta.readline()\n",
    "\n",
    "    \n",
    "for line in csv.reader(fasta, dialect=\"excel-tab\"):\n",
    "    \n",
    "    try:\n",
    "        if float(line[10]) <= limit:\n",
    "            print \"Accession number: \"+line[1]\n",
    "            print \"E-value:          \"+line[10]+\"\\n\"\n",
    "        \n",
    "        else:\n",
    "            pass\n",
    "    \n",
    "    except:\n",
    "        continue\n",
    "\n"
   ]
  },
  {
   "cell_type": "code",
   "execution_count": 37,
   "metadata": {},
   "outputs": [
    {
     "name": "stdout",
     "output_type": "stream",
     "text": [
      "What is your E-value threshold? 0\n",
      "\n",
      "\n",
      "Accession number: Q9WUR6.1\n",
      "E-value:          0.0\n",
      "\n",
      "Accession number: Q00366.1\n",
      "E-value:          0.0\n",
      "\n",
      "Accession number: Q9TUB2.1\n",
      "E-value:          0.0\n",
      "\n",
      "Accession number: O09185.1\n",
      "E-value:          0.0\n",
      "\n",
      "Accession number: Q29537.2\n",
      "E-value:          0.0\n",
      "\n",
      "Accession number: P02340.4\n",
      "E-value:          0.0\n",
      "\n",
      "Accession number: P67938.1\n",
      "E-value:          0.0\n",
      "\n",
      "Accession number: P51664.1\n",
      "E-value:          0.0\n",
      "\n",
      "Accession number: P41685.1\n",
      "E-value:          0.0\n",
      "\n",
      "Accession number: P10361.1\n",
      "E-value:          0.0\n",
      "\n",
      "Accession number: Q64662.1\n",
      "E-value:          0.0\n",
      "\n"
     ]
    }
   ],
   "source": [
    "import csv\n",
    "\n",
    "limit = float(raw_input(\"What is your E-value threshold? \"))\n",
    "print\"\\n\"\n",
    "\n",
    "fasta = open(\"blast2.csv\", \"r\")\n",
    "header = \"\"\n",
    "for i in range(7):\n",
    "    header += fasta.readline()\n",
    "\n",
    "for line in csv.reader(fasta, delimiter=','):\n",
    "    \n",
    "    try:\n",
    "        if float(line[10]) <= limit:\n",
    "            print \"Accession number: \"+line[1]\n",
    "            print \"E-value:          \"+line[10]+\"\\n\"\n",
    "        else:\n",
    "            pass\n",
    "    except:\n",
    "        continue\n",
    "    \n",
    "\n"
   ]
  },
  {
   "cell_type": "markdown",
   "metadata": {},
   "source": [
    "### Can read, can write"
   ]
  },
  {
   "cell_type": "markdown",
   "metadata": {},
   "source": [
    "Write a program that reads two FASTA files specified by the user and copies the two sequences one after the other to a third file, ready for use with ```clustalw```. Try to avoid duplicating the code that reads the files; use a loop instead."
   ]
  },
  {
   "cell_type": "code",
   "execution_count": 13,
   "metadata": {},
   "outputs": [
    {
     "name": "stdout",
     "output_type": "stream",
     "text": [
      "What is the name of the first fasta file?P04637.fas\n",
      "What is the name of the second fasta file?PXXXX.fas\n"
     ]
    }
   ],
   "source": [
    "file_name1 = raw_input(\"What is the name of the fasta file? \")\n",
    "file_name2 = raw_input(\"What is the name of the second fasta file? \")\n",
    "\n",
    "\n",
    "def fasta_combine(file_name, fasta_combined):\n",
    "    \n",
    "    fasta_combined = open(\"combined.fas\", \"a\")\n",
    "    fasta = open(file_name, \"r\")\n",
    "    lines = fasta.readlines()\n",
    "    \n",
    "    for i in lines:\n",
    "        fasta_combined.write(i)\n",
    "    \n",
    "fasta_combine(file_name1, fasta_combined)\n",
    "fasta_combine(file_name2, fasta_combined)\n",
    "    \n",
    "    "
   ]
  },
  {
   "cell_type": "code",
   "execution_count": null,
   "metadata": {},
   "outputs": [],
   "source": []
  }
 ],
 "metadata": {
  "kernelspec": {
   "display_name": "Python 2",
   "language": "python",
   "name": "python2"
  },
  "language_info": {
   "codemirror_mode": {
    "name": "ipython",
    "version": 2
   },
   "file_extension": ".py",
   "mimetype": "text/x-python",
   "name": "python",
   "nbconvert_exporter": "python",
   "pygments_lexer": "ipython2",
   "version": "2.7.5"
  }
 },
 "nbformat": 4,
 "nbformat_minor": 1
}
