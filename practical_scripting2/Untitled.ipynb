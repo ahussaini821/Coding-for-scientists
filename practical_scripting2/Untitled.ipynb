{
 "cells": [
  {
   "cell_type": "code",
   "execution_count": 1,
   "metadata": {},
   "outputs": [
    {
     "name": "stdout",
     "output_type": "stream",
     "text": [
      "ACCGT\n",
      "| || \n",
      "A-CG-\n",
      "  Score=3\n",
      "\n"
     ]
    }
   ],
   "source": [
    "from Bio.Seq import Seq\n",
    "from Bio import SeqIO\n",
    "from Bio import pairwise2\n",
    "from Bio.pairwise2 import format_alignment\n",
    "\n",
    "\n",
    "# dbv_list = [parsed.seq for parsed in SeqIO.parse(\"DBVPG6044.fa\", \"fasta\")]\n",
    "# yps_list = [parsed.seq for parsed in SeqIO.parse(\"YPS128.fa\", \"fasta\")]\n",
    "\n",
    "# print len(dbv_list)\n",
    "# print len(yps_list)\n",
    "\n",
    "# zipped = zip(dbv_list, yps_list)\n",
    "# for i in zipped:\n",
    "#     alignments = pairwise2.align.globalxx(i[0], i[1])\n",
    "# print \"test\"\n",
    "# print (format_alignment(*alignments[0]))\n",
    "# print \"poo\" \n",
    "\n",
    "alignments = pairwise2.align.globalxx(\"ACCGT\", \"ACG\")\n",
    "print(format_alignment(*alignments[0]))\n",
    "    \n",
    "    \n",
    "    \n",
    "\n",
    "    \n",
    "    \n",
    "# seq_dbv = SeqIO.parse(\"DBVPG6044.fa\", \"fasta\")\n",
    "# seq_yps = SeqIO.parse(\"YPS128.fa\", \"fasta\")\n",
    "# count = 0\n",
    "# count2 = 0\n",
    "# for i in range(16):\n",
    "#     cur_chr = next(seq_dbv).seq\n",
    "#     cur_chr2 = next(seq_yps).seq\n",
    "    \n",
    "#     for i in \n"
   ]
  },
  {
   "cell_type": "code",
   "execution_count": null,
   "metadata": {},
   "outputs": [],
   "source": []
  }
 ],
 "metadata": {
  "kernelspec": {
   "display_name": "Python 2",
   "language": "python",
   "name": "python2"
  },
  "language_info": {
   "codemirror_mode": {
    "name": "ipython",
    "version": 2
   },
   "file_extension": ".py",
   "mimetype": "text/x-python",
   "name": "python",
   "nbconvert_exporter": "python",
   "pygments_lexer": "ipython2",
   "version": "2.7.5"
  }
 },
 "nbformat": 4,
 "nbformat_minor": 2
}
