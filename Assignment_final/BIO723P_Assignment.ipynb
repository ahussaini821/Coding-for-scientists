{
 "cells": [
  {
   "cell_type": "markdown",
   "metadata": {},
   "source": [
    "# Bio723P Coding for Scientists Final Assignment, 2019/20"
   ]
  },
  {
   "cell_type": "markdown",
   "metadata": {},
   "source": [
    "This assignment counts towards 100% of the marks for this module. The assignment is divided into four questions, each carrying 25 marks."
   ]
  },
  {
   "cell_type": "markdown",
   "metadata": {},
   "source": [
    "## Student name and number\n",
    "Enter your full name and student number in the cell below"
   ]
  },
  {
   "cell_type": "markdown",
   "metadata": {},
   "source": [
    "full name: Arslan Hussaini\n",
    "\n",
    "student number: 150166735"
   ]
  },
  {
   "cell_type": "markdown",
   "metadata": {},
   "source": [
    "\n",
    "## Deadline and submission\n",
    "\n",
    "Complete this notebook with your code, compress it and submit it as a .zip file through the QMPlus page by the appropriate deadline:\n",
    "\n",
    "    full-time students: Friday Nov 1st, 24:00 midnight\n",
    "    part-time students: Friday Nov 15th, 24:00 midnight\n",
    "\n",
    "## Submission checklist\n",
    "\n",
    "* Notebook is written in Python 2.7 and can be opened and run on the lab machines.\n",
    "* Any import statements are listed  in the cell provided at the end of this introduction; name and version of the library are given in a comment.\n",
    "* Notebook functions pass all tests when cells are run with a fresh kernel from top to bottom.\n",
    "* Notebook only contains well commented answer code and the original tests. Please remove your own test code.\n",
    "* Notebook includes the full name and student number of the author.\n",
    "* Zip file containing the notebook is free from errors.\n",
    "\n",
    "Please refrain from editing the text of the assignment and the test code provided. Feel free to insert text or code cells as needed, but please clean up rough work that you do not wish to be marked.\n",
    "\n",
    "## Marking\n",
    "\n",
    "Your work will be marked **automatically**. Marks will be based on:\n",
    "\n",
    "        completeness and correctness: 100%\n",
    "        \n",
    "For automatic marking to function appropriately, each of your answers **must** pass the tests provided when running the notebook from top to bottom on a fresh kernel. Code that does not pass the tests or does not run (directly or indirectly, e.g. a function calling another function) by the functions you are asked to implement will **not** be marked.\n",
    "\n",
    "The test code provided with each question does **not** ensure that your submission is correct; it only ensures that it can be marked automatically. You will need to test your code independently for correctness; however, please remove your test code from your final submission, and do not submit any test data; the marking script will test your code with its own choice of data.\n",
    "\n",
    "## How to answer questions\n",
    "\n",
    "This assignment contains four questions, that can in principle be tackled in any order. However, we suggest that you answer Question 3 before attempting Question 4.\n",
    "\n",
    "Each question will require you to code a few functions. As you progress through the subquestions, you may have to rely on your answer to previous subquestions to perform some operation. Please call the relevant functions and avoid duplicating code.  \n",
    "\n",
    "\n",
    "## Use of libraries\n",
    "\n",
    "You are free to use any library available in PyPI; however, this assignment is designed to be feasible using only the functions in the Python standard library. If you do decide to use any additional libraries, these must be installable from PyPI using pip. Specify in the cell below all necessary import statements; include the name and version of the library in a comment.\n"
   ]
  },
  {
   "cell_type": "code",
   "execution_count": null,
   "metadata": {},
   "outputs": [],
   "source": [
    "# Please list your import statements here, according to the example. Include a comment with the name of the library\n",
    "# and its version\n",
    "\n",
    "# Example:\n",
    "# Biopython v 1.73\n",
    "# import Bio # this would be uncommented\n",
    "\n",
    "# Biopython v 1.74\n",
    "from Bio.Seq import seq\n",
    "\n",
    "# Math part of standard python library\n",
    "import math\n",
    "\n",
    "# CSV part of standard python library\n",
    "import csv\n",
    "\n",
    "# textwrap part of standard python library\n",
    "import textwrap"
   ]
  },
  {
   "cell_type": "markdown",
   "metadata": {},
   "source": [
    "## Preliminary reading\n",
    "\n",
    "Please read the PDF file ```BIO723P_Assignment_Background.pdf``` distributed with this assigment carefully before you start coding."
   ]
  },
  {
   "cell_type": "markdown",
   "metadata": {},
   "source": [
    "# Question 1: Primers and melting temperature"
   ]
  },
  {
   "cell_type": "markdown",
   "metadata": {},
   "source": [
    "### Question 1.a: Reading a DNA sequence from a file\n",
    "\n",
    "Write a python function called ```readDNAsequence``` that takes as its argument the name of a file.  When passed the name of a FASTA file, the function should read the file, discard the header and return the sequence as a string. Your code should raise ```BadSequenceException``` (defined below) if the sequence part of the file contains characters that are not one of the letters A, C, T, G, U. All U nucleotides should be replaced by T in the returned string (for simplicity, we will be working with T only throughout the rest of this assignment)."
   ]
  },
  {
   "cell_type": "code",
   "execution_count": 1,
   "metadata": {},
   "outputs": [],
   "source": [
    "# Run this cell to define the exception\n",
    "class BadSequenceException(Exception):\n",
    "    pass"
   ]
  },
  {
   "cell_type": "code",
   "execution_count": 2,
   "metadata": {},
   "outputs": [],
   "source": [
    "# Your code here\n",
    "def readDNAsequence(file_name):\n",
    "    \n",
    "    \n",
    "    # List of valid bases to test against\n",
    "    bases = [\"A\", \"T\", \"C\", \"G\", \"U\"]\n",
    "    base_list = []\n",
    "    fasta = open(file_name, \"r\")\n",
    "    fasta_content = fasta.readlines()\n",
    "    for line in fasta_content:\n",
    "        \n",
    "        # Get rid of any spaces in the line\n",
    "        line = line.rstrip()\n",
    "        \n",
    "        if \">\" in line:\n",
    "            continue\n",
    "        \n",
    "        else:\n",
    "            for base in line:\n",
    "                \n",
    "                if base not in bases:\n",
    "                    raise BadSequenceException(\"Invalid base present\")\n",
    "                \n",
    "                elif base == \"U\":\n",
    "                    base_list.append(\"T\")\n",
    "                \n",
    "                else:\n",
    "                    base_list.append(base) \n",
    "    \n",
    "    final_sequence = ''.join(base_list)\n",
    "    \n",
    "    \n",
    "    return final_sequence\n",
    "\n"
   ]
  },
  {
   "cell_type": "code",
   "execution_count": 3,
   "metadata": {},
   "outputs": [
    {
     "name": "stdout",
     "output_type": "stream",
     "text": [
      "OK\n"
     ]
    }
   ],
   "source": [
    "# Test code\n",
    "import os\n",
    "with open(\"test9876345.fas\", \"wt\") as _OUTF:\n",
    "    _OUTF.write(\"> test\\n\")\n",
    "    _OUTF.write(\"ACTG\\n\")\n",
    "_seq=readDNAsequence(\"test9876345.fas\")\n",
    "assert type(_seq) is type(\"\"), \"Return value is not a string: %r\" % _seq\n",
    "os.remove(\"test9876345.fas\")\n",
    "print \"OK\""
   ]
  },
  {
   "cell_type": "markdown",
   "metadata": {},
   "source": [
    "### Question 1.b: Computing the complement of a sequence"
   ]
  },
  {
   "cell_type": "markdown",
   "metadata": {},
   "source": [
    "Write a function called ```complement``` that takes a string containing a DNA sequence as its only  parameter and returns the complement of the sequence in a string. The function should raise ```BadSequenceException``` if the argument sequence contains anything else than the four characters A, C, T, G.\n"
   ]
  },
  {
   "cell_type": "code",
   "execution_count": 2,
   "metadata": {},
   "outputs": [],
   "source": [
    "# Your code here\n",
    "from Bio.Seq import Seq\n",
    "\n",
    "def complement(dna_sequence):\n",
    "    bases = [\"A\", \"T\", \"C\", \"G\"]\n",
    "    for base in dna_sequence:\n",
    "        if base not in bases:\n",
    "            raise BadSequenceException(\"Invalid base present in sequence\")\n",
    "        \n",
    "    seq = Seq(dna_sequence)\n",
    "    compl = seq.complement()\n",
    "    \n",
    "    compl = str(compl)\n",
    "    \n",
    "    return compl\n",
    "\n",
    "\n",
    "    "
   ]
  },
  {
   "cell_type": "code",
   "execution_count": 3,
   "metadata": {},
   "outputs": [
    {
     "name": "stdout",
     "output_type": "stream",
     "text": [
      "OK\n"
     ]
    }
   ],
   "source": [
    "# Test code\n",
    "_seq=complement(\"ACGTTTCG\")\n",
    "assert type(_seq) is type(\"\"), \"Return value is not a string: %r\" % _seq\n",
    "print \"OK\""
   ]
  },
  {
   "cell_type": "markdown",
   "metadata": {},
   "source": [
    "### Question 1.c: Extracting primers"
   ]
  },
  {
   "cell_type": "markdown",
   "metadata": {
    "collapsed": true
   },
   "source": [
    "Write a function called ```primer``` that takes three parameters: a DNA sequence called ```sequence```, an integer ```length``` that is 20 by default and a Boolean value ```forward``` that is ```True``` by default. When ```forward``` is ```True``` (or is not passed), the function should return a Forward primer for the sequence passed as ```sequence```; when it is ```False```, it should return a  Reverse primer. The length of the primer is specified by ```length```; if this is not passed, a primer of length 20 should be returned.  Refer to the Background document for a definition of primers and how to compute them. If the sequence is shorter than ```length``` nucleotides, your code should return a ```BadSequenceException```.\n"
   ]
  },
  {
   "cell_type": "code",
   "execution_count": 4,
   "metadata": {},
   "outputs": [],
   "source": [
    "# Your code here\n",
    "from Bio.Seq import Seq\n",
    "\n",
    "def primer(sequence, length=20, forward=True):\n",
    "    if len(sequence) < length:\n",
    "        raise BadSequenceException(\"Sequence shorter than length given\")\n",
    "    if forward == False:\n",
    "        sequence = Seq(sequence)\n",
    "        \n",
    "        sequence_reverse = sequence.reverse_complement()\n",
    "        sequence_reverse = str(sequence_reverse)\n",
    "        \n",
    "        \n",
    "        seq_list = []\n",
    "        for i in range(length):\n",
    "            seq_list.append(sequence_reverse[i])\n",
    "        return ''.join(seq_list)\n",
    "    \n",
    "    elif forward == True:\n",
    "        seq_list = []\n",
    "        for i in range(length):\n",
    "            seq_list.append(sequence[i])\n",
    "        \n",
    "        return ''.join(seq_list)\n",
    "        \n",
    "\n"
   ]
  },
  {
   "cell_type": "code",
   "execution_count": 5,
   "metadata": {},
   "outputs": [
    {
     "name": "stdout",
     "output_type": "stream",
     "text": [
      "OK\n"
     ]
    }
   ],
   "source": [
    "# Test code\n",
    "_seq=primer(sequence=\"AAAAATTTTTCCCCCGGGGGAAAAA\", length= 20, forward=False)\n",
    "assert type(_seq) is type(\"\"), \"Return value is not a string: %r\" % _seq\n",
    "print \"OK\""
   ]
  },
  {
   "cell_type": "markdown",
   "metadata": {},
   "source": [
    "### Question 1.d: Computing the melting temperature"
   ]
  },
  {
   "cell_type": "markdown",
   "metadata": {},
   "source": [
    "Write a function called ```meltingTemp``` that takes a string representing a primer as its argument. The function should return the melting temperature of the primer in degrees Celsius according to the equation given in the Background document. If tthe sequence contains characters other than A, C, T, G, the function should raise a ```BadSequenceException```."
   ]
  },
  {
   "cell_type": "code",
   "execution_count": 6,
   "metadata": {},
   "outputs": [],
   "source": [
    "# Your code here\n",
    "from Bio.Seq import Seq\n",
    "\n",
    "def meltingTemp(primer):\n",
    "    bases = [\"A\", \"T\", \"C\", \"G\"]\n",
    "    at_count = 0\n",
    "    gc_count = 0\n",
    "    for i in primer:\n",
    "        if i not in bases:\n",
    "            raise BadSequenceException(\"Invalid base present\")\n",
    "        else:\n",
    "            continue\n",
    "    seq = Seq(primer)\n",
    "    at_count += seq.count(\"A\")\n",
    "    at_count += seq.count(\"T\")\n",
    "    gc_count += seq.count(\"G\")\n",
    "    gc_count += seq.count(\"C\")\n",
    "    melting_point = (4*gc_count) + (2*at_count)\n",
    "    return melting_point\n",
    "\n",
    "\n",
    "    \n",
    "    "
   ]
  },
  {
   "cell_type": "code",
   "execution_count": 7,
   "metadata": {},
   "outputs": [
    {
     "name": "stdout",
     "output_type": "stream",
     "text": [
      "OK\n"
     ]
    }
   ],
   "source": [
    "# Test code\n",
    "_temp=meltingTemp(\"AAAAATTTTTCCCCCGGGGG\")\n",
    "assert ((type(_temp) is type(0.0)) or\n",
    "        (type(_temp) is type(0))), \"Return value is not a number: %r\" % _temp\n",
    "print \"OK\""
   ]
  },
  {
   "cell_type": "markdown",
   "metadata": {},
   "source": [
    "### Question 1.e: Putting it all together\n",
    "\n",
    "Write a function called ```sequencePCRtemp``` that takes a string containing the name of a FASTA file as its argument. The function should return the average melting temperature of the two primers of the sequence as a ```float```."
   ]
  },
  {
   "cell_type": "code",
   "execution_count": 8,
   "metadata": {},
   "outputs": [],
   "source": [
    "# Your code here\n",
    "from Bio.Seq import Seq\n",
    "\n",
    "def meltingTemp(primer):\n",
    "    bases = [\"A\", \"T\", \"C\", \"G\"]\n",
    "    at_count = 0\n",
    "    gc_count = 0\n",
    "    for i in primer:\n",
    "        if i not in bases:\n",
    "            raise BadSequenceException(\"Invalid base present\")\n",
    "        else:\n",
    "            continue\n",
    "    seq = Seq(primer)\n",
    "    at_count += seq.count(\"A\")\n",
    "    at_count += seq.count(\"T\")\n",
    "    gc_count += seq.count(\"G\")\n",
    "    gc_count += seq.count(\"C\")\n",
    "    melting_point = (4*gc_count) + (2*at_count)\n",
    "    return melting_point\n",
    "\n",
    "\n",
    "\n",
    "def primer(sequence, length=20, forward=True):\n",
    "    if len(sequence) < length:\n",
    "        raise BadSequenceException(\"Sequence shorter than length given\")\n",
    "    if forward == False:\n",
    "        sequence = Seq(sequence)\n",
    "        \n",
    "        sequence_reverse = sequence.reverse_complement()\n",
    "        sequence_reverse = str(sequence_reverse)\n",
    "        \n",
    "        \n",
    "        seq_list = []\n",
    "        for i in range(length):\n",
    "            seq_list.append(sequence_reverse[i])\n",
    "        return ''.join(seq_list)\n",
    "    \n",
    "    elif forward == True:\n",
    "        seq_list = []\n",
    "        for i in range(length):\n",
    "            seq_list.append(sequence[i])\n",
    "        return ''.join(seq_list)\n",
    "\n",
    "def readDNAsequence(file_name):\n",
    "    \n",
    "    \n",
    "    # List of valid bases to test against\n",
    "    bases = [\"A\", \"T\", \"C\", \"G\", \"U\"]\n",
    "    base_list = []\n",
    "    fasta = open(file_name, \"r\")\n",
    "    fasta_content = fasta.readlines()\n",
    "    for line in fasta_content:\n",
    "        \n",
    "        # Get rid of any spaces in the line\n",
    "        line = line.rstrip()\n",
    "        \n",
    "        if \">\" in line:\n",
    "            continue\n",
    "        \n",
    "        else:\n",
    "            for base in line:\n",
    "                \n",
    "                if base not in bases:\n",
    "                    raise BadSequenceException(\"Invalid base present\")\n",
    "                \n",
    "                elif base == \"U\":\n",
    "                    base_list.append(\"T\")\n",
    "                \n",
    "                else:\n",
    "                    base_list.append(base) \n",
    "    \n",
    "    final_sequence = ''.join(base_list)\n",
    "    \n",
    "    \n",
    "    return final_sequence\n",
    "\n",
    "\n",
    "def sequencePCRtemp(file_name):\n",
    "    \n",
    "    dna_seq = readDNAsequence(file_name)\n",
    "    \n",
    "    length = 20\n",
    "    forward_primer = primer(dna_seq, length, True)\n",
    "    reverse_primer = primer(dna_seq, length, False)\n",
    "    \n",
    "    \n",
    "    for_melting = meltingTemp(forward_primer)\n",
    "    rev_melting = meltingTemp(reverse_primer)\n",
    "    \n",
    "    avg_melting = (float(for_melting)+float(rev_melting))/2\n",
    "    \n",
    "    \n",
    "    return avg_melting\n",
    "\n"
   ]
  },
  {
   "cell_type": "code",
   "execution_count": 9,
   "metadata": {},
   "outputs": [
    {
     "name": "stdout",
     "output_type": "stream",
     "text": [
      "OK\n"
     ]
    }
   ],
   "source": [
    "# Test code\n",
    "import os\n",
    "with open(\"test9876346.fas\", \"wt\") as _OUTF:\n",
    "    _OUTF.write(\"> test\\n\")\n",
    "    _OUTF.write(\"AAAAACCCCCTTTTTGGGGGAAAAA\\n\")\n",
    "_temp=sequencePCRtemp(\"test9876346.fas\")\n",
    "assert type(_temp) is type(0.0), \"Return value is not a float: %r\" % _temp\n",
    "os.remove(\"test9876346.fas\")\n",
    "print \"OK\""
   ]
  },
  {
   "cell_type": "markdown",
   "metadata": {},
   "source": [
    "# Question 2: Translation and reading frames"
   ]
  },
  {
   "cell_type": "markdown",
   "metadata": {},
   "source": [
    "### Question 2.a: Reading frames\n",
    "Write a function ```translate``` that takes a string containing a DNA sequence as its input and outputs a Python dictionary containing the translation of the sequence in all possible reading frames. The keys of the dictionary should be ```f1```, ```f2```, ```f3``` for the three forward frames and ```r1```, ```r2``` and ```r3``` for the reverse reading frames; the value of each key should the translation of the sequence in the corresponding frame. Use an asterisk (```*```) to represent stop codons."
   ]
  },
  {
   "cell_type": "code",
   "execution_count": 1,
   "metadata": {},
   "outputs": [],
   "source": [
    "# Your code here\n",
    "from Bio.Seq import Seq\n",
    "\n",
    "\n",
    "def translate(dna_seq):\n",
    "    \n",
    "    rev_dna_seq = list(dna_seq)\n",
    "    rev_dna_seq.reverse()\n",
    "    rev_dna_seq = ''.join(rev_dna_seq)\n",
    "    \n",
    "    \n",
    "    gencode = {\n",
    "    'ATA':'I', 'ATC':'I', 'ATT':'I', 'ATG':'M',\n",
    "    'ACA':'T', 'ACC':'T', 'ACG':'T', 'ACT':'T',\n",
    "    'AAC':'N', 'AAT':'N', 'AAA':'K', 'AAG':'K',\n",
    "    'AGC':'S', 'AGT':'S', 'AGA':'R', 'AGG':'R',\n",
    "    'CTA':'L', 'CTC':'L', 'CTG':'L', 'CTT':'L',\n",
    "    'CCA':'P', 'CCC':'P', 'CCG':'P', 'CCT':'P',\n",
    "    'CAC':'H', 'CAT':'H', 'CAA':'Q', 'CAG':'Q',\n",
    "    'CGA':'R', 'CGC':'R', 'CGG':'R', 'CGT':'R',\n",
    "    'GTA':'V', 'GTC':'V', 'GTG':'V', 'GTT':'V',\n",
    "    'GCA':'A', 'GCC':'A', 'GCG':'A', 'GCT':'A',\n",
    "    'GAC':'D', 'GAT':'D', 'GAA':'E', 'GAG':'E',\n",
    "    'GGA':'G', 'GGC':'G', 'GGG':'G', 'GGT':'G',\n",
    "    'TCA':'S', 'TCC':'S', 'TCG':'S', 'TCT':'S',\n",
    "    'TTC':'F', 'TTT':'F', 'TTA':'L', 'TTG':'L',\n",
    "    'TAC':'Y', 'TAT':'Y', 'TAA':'*', 'TAG':'*',\n",
    "    'TGC':'C', 'TGT':'C', 'TGA':'*', 'TGG':'W'}\n",
    "    \n",
    "    reading_frame = {}\n",
    "    translated = {}\n",
    "    count = 1\n",
    "    curr_codon = []\n",
    "    \n",
    "    for i in range(0,3):\n",
    "        reading_frame[\"f{}\".format(count)] = [dna_seq[x:x+3] \n",
    "                                              for x in \n",
    "                                              range(i,len(dna_seq),3)]\n",
    "        count+=1\n",
    "    \n",
    "    count = 1    \n",
    "    \n",
    "    for i in range(0,3):\n",
    "        reading_frame[\"r{}\".format(count)] = [rev_dna_seq[x:x+3] \n",
    "                                              for x in \n",
    "                                              range(i,len(rev_dna_seq),3)]\n",
    "        count+=1\n",
    "    \n",
    "    for i in reading_frame:\n",
    "        if len(reading_frame[i][-1]) < 3:\n",
    "            reading_frame[i].pop(-1)\n",
    "    \n",
    "    for i in reading_frame:\n",
    "        for index, codon in enumerate(reading_frame[i]):\n",
    "            reading_frame[i][index] = gencode[codon]\n",
    "            \n",
    "    for i in reading_frame:\n",
    "        reading_frame[i] = ''.join(reading_frame[i])\n",
    "        \n",
    "    return(reading_frame)\n",
    "\n",
    "\n",
    "            \n",
    "        "
   ]
  },
  {
   "cell_type": "code",
   "execution_count": 2,
   "metadata": {},
   "outputs": [
    {
     "name": "stdout",
     "output_type": "stream",
     "text": [
      "OK\n"
     ]
    }
   ],
   "source": [
    "# Test code\n",
    "_seqdic=translate(\"ACTGACTGACTGACTGACTGACTG\")\n",
    "assert type(_seqdic)==type(dict()), \"Return value is not a dictionary: %r\" % _seqdic\n",
    "assert set(_seqdic.keys())==set(['f1', 'f2', 'f3', 'r1', 'r2', 'r3']), \\\n",
    "    \"Output dictionary has incorrect/missing keys: %r\"  % _seqdic.keys()\n",
    "assert type(_seqdic['f1'])==type(\"\"), \\\n",
    "    \"Output dictionary values should be strings, not %r\" % type(_seqdic['f1'])\n",
    "print \"OK\""
   ]
  },
  {
   "cell_type": "markdown",
   "metadata": {},
   "source": [
    "### Question 2.b: Locating an ORF\n",
    "\n",
    "Write a function called ```openReadingFrame``` that takes a string containing an aminoacid sequence as its argument and returns a string containing the aminoacids between the first Methionine (included) and the first STOP codon that follows it (excluded). Assume the stop codon is represented by an asterisk (```*```) as would be returned by ```translate``` above. If either the Methionine or the STOP codon are missing, your function should return an empty string."
   ]
  },
  {
   "cell_type": "code",
   "execution_count": 3,
   "metadata": {},
   "outputs": [],
   "source": [
    "# Your code here\n",
    "def openReadingFrame(amino_sequence):\n",
    "    \n",
    "    # Keeps track of if a methionine has been found \n",
    "    start_done = False\n",
    "    start_index = None\n",
    "    end_index = None\n",
    "    \n",
    "    for index, amino in enumerate(amino_sequence):\n",
    "        if amino == \"M\" and start_done == False:\n",
    "            start_index = index\n",
    "            start_done = True\n",
    "        \n",
    "        elif amino == \"*\" and start_done == True:\n",
    "            end_index = index\n",
    "            break\n",
    "        \n",
    "        else:\n",
    "            continue\n",
    "            \n",
    "    protein = amino_sequence[start_index:end_index]\n",
    "    if start_index == None or end_index == None:\n",
    "        protein = \"\"\n",
    "    \n",
    "    return protein\n",
    "\n",
    "\n",
    "            "
   ]
  },
  {
   "cell_type": "code",
   "execution_count": 4,
   "metadata": {},
   "outputs": [
    {
     "name": "stdout",
     "output_type": "stream",
     "text": [
      "OK\n"
     ]
    }
   ],
   "source": [
    "# Test code\n",
    "_seq=openReadingFrame(\"AMCAPP*L\")\n",
    "assert type(_seq) is type(\"\"), \"Return value is not a string: %r\" % _seq\n",
    "print \"OK\""
   ]
  },
  {
   "cell_type": "markdown",
   "metadata": {},
   "source": [
    "### Question 2.c: Translating a sequence\n",
    "\n",
    "Write a function called ```candidateProtein``` that takes a string containing a DNA sequence as its input and outputs the string of aminoacids corresponding to the longest ORF, as extracted by ```openReadingFrame``` above."
   ]
  },
  {
   "cell_type": "code",
   "execution_count": 5,
   "metadata": {},
   "outputs": [],
   "source": [
    "# Your code here\n",
    "import textwrap\n",
    "def translate(dna_seq):\n",
    "    \n",
    "    rev_dna_seq = list(dna_seq)\n",
    "    rev_dna_seq.reverse()\n",
    "    rev_dna_seq = ''.join(rev_dna_seq)\n",
    "    \n",
    "    \n",
    "    gencode = {\n",
    "    'ATA':'I', 'ATC':'I', 'ATT':'I', 'ATG':'M',\n",
    "    'ACA':'T', 'ACC':'T', 'ACG':'T', 'ACT':'T',\n",
    "    'AAC':'N', 'AAT':'N', 'AAA':'K', 'AAG':'K',\n",
    "    'AGC':'S', 'AGT':'S', 'AGA':'R', 'AGG':'R',\n",
    "    'CTA':'L', 'CTC':'L', 'CTG':'L', 'CTT':'L',\n",
    "    'CCA':'P', 'CCC':'P', 'CCG':'P', 'CCT':'P',\n",
    "    'CAC':'H', 'CAT':'H', 'CAA':'Q', 'CAG':'Q',\n",
    "    'CGA':'R', 'CGC':'R', 'CGG':'R', 'CGT':'R',\n",
    "    'GTA':'V', 'GTC':'V', 'GTG':'V', 'GTT':'V',\n",
    "    'GCA':'A', 'GCC':'A', 'GCG':'A', 'GCT':'A',\n",
    "    'GAC':'D', 'GAT':'D', 'GAA':'E', 'GAG':'E',\n",
    "    'GGA':'G', 'GGC':'G', 'GGG':'G', 'GGT':'G',\n",
    "    'TCA':'S', 'TCC':'S', 'TCG':'S', 'TCT':'S',\n",
    "    'TTC':'F', 'TTT':'F', 'TTA':'L', 'TTG':'L',\n",
    "    'TAC':'Y', 'TAT':'Y', 'TAA':'*', 'TAG':'*',\n",
    "    'TGC':'C', 'TGT':'C', 'TGA':'*', 'TGG':'W'}\n",
    "    \n",
    "    reading_frame = {}\n",
    "    translated = {}\n",
    "    count = 1\n",
    "    curr_codon = []\n",
    "    \n",
    "    for i in range(0,3):\n",
    "        \n",
    "        reading_frame[\"f{}\".format(count)] = [dna_seq[x:x+3] \n",
    "                                              for x in \n",
    "                                              range(i,len(dna_seq),3)]\n",
    "        count+=1\n",
    "    \n",
    "    count = 1    \n",
    "    \n",
    "    for i in range(0,3):\n",
    "        \n",
    "        reading_frame[\"r{}\".format(count)] = [rev_dna_seq[x:x+3] \n",
    "                                              for x in \n",
    "                                              range(i,len(rev_dna_seq),3)]\n",
    "        count+=1\n",
    "    \n",
    "    for i in reading_frame:\n",
    "        \n",
    "        if len(reading_frame[i][-1]) < 3:\n",
    "            reading_frame[i].pop(-1)\n",
    "    \n",
    "    \n",
    "    for i in reading_frame:\n",
    "        for index, codon in enumerate(reading_frame[i]):\n",
    "            \n",
    "            reading_frame[i][index] = gencode[codon]\n",
    "            \n",
    "    \n",
    "    for i in reading_frame:\n",
    "        reading_frame[i] = ''.join(reading_frame[i])\n",
    "        \n",
    "    return(reading_frame)   \n",
    "\n",
    "def openReadingFrame(amino_sequence):\n",
    "    \n",
    "    # Keeps track of if a methionine has been found \n",
    "    start_done = False\n",
    "    start_index = None\n",
    "    end_index = None\n",
    "    \n",
    "    for index, amino in enumerate(amino_sequence):\n",
    "        if amino == \"M\" and start_done == False:\n",
    "            start_index = index\n",
    "            start_done = True\n",
    "        \n",
    "        elif amino == \"*\" and start_done == True:\n",
    "            end_index = index\n",
    "            break\n",
    "        \n",
    "        else:\n",
    "            continue\n",
    "            \n",
    "    protein = amino_sequence[start_index:end_index]\n",
    "    if start_index == None or end_index == None:\n",
    "        protein = \"\"\n",
    "    \n",
    "    return protein\n",
    "\n",
    "def candidateProtein(dna_seq):\n",
    "    longest = \"\"\n",
    "    translated = translate(dna_seq)\n",
    "   \n",
    "    for i in translated:\n",
    "        curr_protein = openReadingFrame(translated[i])\n",
    "        if len(curr_protein) > len(longest):\n",
    "            longest = curr_protein\n",
    "    \n",
    "    return longest\n",
    "        \n",
    "\n"
   ]
  },
  {
   "cell_type": "code",
   "execution_count": 6,
   "metadata": {},
   "outputs": [
    {
     "name": "stdout",
     "output_type": "stream",
     "text": [
      "OK\n"
     ]
    }
   ],
   "source": [
    "# Test code\n",
    "_seq=candidateProtein(\"ATGACTGCTGGGTAG\")\n",
    "assert type(_seq) is type(\"\"), \"Return value is not a string: %r\" % _seq\n",
    "print \"OK\""
   ]
  },
  {
   "cell_type": "markdown",
   "metadata": {},
   "source": [
    "### Question 2.d: Writing a FASTA file\n",
    "\n",
    "Write a function called ```writeFASTA``` that takes three string arguments called, in the order, ```sequence```, ```description``` and ```filename```. Argument ```sequence``` should contain an aminoacid sequence. Argument ```header``` should contain a description (eg name of protein, organism, etc). Argument ```filename``` should contain a file name. Your code should create the file with the name requested, write to  it the description as a FASTA header (i.e. starting with the character ```>```) and write the sequence to the file. Long sequences should be formatted over several lines. The function should not return any value."
   ]
  },
  {
   "cell_type": "code",
   "execution_count": 7,
   "metadata": {},
   "outputs": [],
   "source": [
    "# Your code here\n",
    "import textwrap\n",
    "\n",
    "def writeFASTA(sequence, description, filename):\n",
    "    \n",
    "    wrapper = textwrap.TextWrapper(width=50)\n",
    "    sequence_list = wrapper.wrap(text=sequence)\n",
    "    fasta = open(filename, \"w\")\n",
    "    fasta.write(\">\")\n",
    "    fasta.write(description)\n",
    "    fasta.write(\"\\n\")\n",
    "    for line in sequence_list:\n",
    "        \n",
    "        fasta.write(line)\n",
    "        fasta.write(\"\\n\")\n",
    "    fasta.close()\n",
    "\n"
   ]
  },
  {
   "cell_type": "code",
   "execution_count": 8,
   "metadata": {},
   "outputs": [
    {
     "name": "stdout",
     "output_type": "stream",
     "text": [
      "OK\n"
     ]
    }
   ],
   "source": [
    "# Test code\n",
    "import os\n",
    "import os.path\n",
    "_rv=writeFASTA(sequence=\"TESTTESTTESTTESTTEST\",\n",
    "              description=\"test sequence\",\n",
    "              filename=\"test9876347.fas\")\n",
    "assert type(_rv) is type(None), \"Function should not return anything; it returns %r\" % _rv\n",
    "_fe=os.path.isfile(\"test9876347.fas\")\n",
    "assert _fe, \"Cannot find output file - has it been created?\"\n",
    "os.remove(\"test9876347.fas\")\n",
    "print \"OK\""
   ]
  },
  {
   "cell_type": "markdown",
   "metadata": {},
   "source": [
    "### Question 2.e: Putting it all together\n",
    "\n",
    "\n",
    "Write a function called ```maximalORF``` that takes as its argument string ```inputfile``` containing the name of an input file, string ```outputfile``` with the name of an output file and string  ```proteinname``` with a description of a candidate protein. The function should read a DNA sequence from the input file and write the candidate protein corresponding to the longest ORF to the output file, in FASTA format. The string supplied in ```proteinname``` should provide the header of the FASTA file. The function should not return any value."
   ]
  },
  {
   "cell_type": "code",
   "execution_count": 1,
   "metadata": {},
   "outputs": [],
   "source": [
    "# Your code here\n",
    "import textwrap\n",
    "from Bio.Seq import Seq\n",
    "\n",
    "class BadSequenceException(Exception):\n",
    "    pass\n",
    "\n",
    "\n",
    "def openReadingFrame(amino_sequence):\n",
    "    \n",
    "    # Keeps track of if a methionine has been found \n",
    "    start_done = False\n",
    "    start_index = None\n",
    "    end_index = None\n",
    "    \n",
    "    for index, amino in enumerate(amino_sequence):\n",
    "        if amino == \"M\" and start_done == False:\n",
    "            start_index = index\n",
    "            start_done = True\n",
    "        \n",
    "        elif amino == \"*\" and start_done == True:\n",
    "            end_index = index\n",
    "            break\n",
    "        \n",
    "        else:\n",
    "            continue\n",
    "            \n",
    "    protein = amino_sequence[start_index:end_index]\n",
    "    if start_index == None or end_index == None:\n",
    "        protein = \"\"\n",
    "    \n",
    "    return protein\n",
    "def translate(dna_seq):\n",
    "    \n",
    "    rev_dna_seq = list(dna_seq)\n",
    "    rev_dna_seq.reverse()\n",
    "    rev_dna_seq = ''.join(rev_dna_seq)\n",
    "    \n",
    "    \n",
    "    gencode = {\n",
    "    'ATA':'I', 'ATC':'I', 'ATT':'I', 'ATG':'M',\n",
    "    'ACA':'T', 'ACC':'T', 'ACG':'T', 'ACT':'T',\n",
    "    'AAC':'N', 'AAT':'N', 'AAA':'K', 'AAG':'K',\n",
    "    'AGC':'S', 'AGT':'S', 'AGA':'R', 'AGG':'R',\n",
    "    'CTA':'L', 'CTC':'L', 'CTG':'L', 'CTT':'L',\n",
    "    'CCA':'P', 'CCC':'P', 'CCG':'P', 'CCT':'P',\n",
    "    'CAC':'H', 'CAT':'H', 'CAA':'Q', 'CAG':'Q',\n",
    "    'CGA':'R', 'CGC':'R', 'CGG':'R', 'CGT':'R',\n",
    "    'GTA':'V', 'GTC':'V', 'GTG':'V', 'GTT':'V',\n",
    "    'GCA':'A', 'GCC':'A', 'GCG':'A', 'GCT':'A',\n",
    "    'GAC':'D', 'GAT':'D', 'GAA':'E', 'GAG':'E',\n",
    "    'GGA':'G', 'GGC':'G', 'GGG':'G', 'GGT':'G',\n",
    "    'TCA':'S', 'TCC':'S', 'TCG':'S', 'TCT':'S',\n",
    "    'TTC':'F', 'TTT':'F', 'TTA':'L', 'TTG':'L',\n",
    "    'TAC':'Y', 'TAT':'Y', 'TAA':'*', 'TAG':'*',\n",
    "    'TGC':'C', 'TGT':'C', 'TGA':'*', 'TGG':'W'}\n",
    "    \n",
    "    reading_frame = {}\n",
    "    translated = {}\n",
    "    count = 1\n",
    "    curr_codon = []\n",
    "    \n",
    "    for i in range(0,3):\n",
    "        \n",
    "        reading_frame[\"f{}\".format(count)] = [dna_seq[x:x+3] \n",
    "                                              for x in \n",
    "                                              range(i,len(dna_seq),3)]\n",
    "        count+=1\n",
    "    \n",
    "    count = 1    \n",
    "    \n",
    "    for i in range(0,3):\n",
    "        \n",
    "        reading_frame[\"r{}\".format(count)] = [rev_dna_seq[x:x+3] \n",
    "                                              for x in \n",
    "                                              range(i,len(rev_dna_seq),3)]\n",
    "        count+=1\n",
    "    \n",
    "    for i in reading_frame:\n",
    "        \n",
    "        if len(reading_frame[i][-1]) < 3:\n",
    "            reading_frame[i].pop(-1)\n",
    "    \n",
    "    \n",
    "    for i in reading_frame:\n",
    "        for index, codon in enumerate(reading_frame[i]):\n",
    "            \n",
    "            reading_frame[i][index] = gencode[codon]\n",
    "            \n",
    "    \n",
    "    for i in reading_frame:\n",
    "        reading_frame[i] = ''.join(reading_frame[i])\n",
    "        \n",
    "    return(reading_frame)\n",
    "\n",
    "def writeFASTA(sequence, description, filename):\n",
    "    \n",
    "    wrapper = textwrap.TextWrapper(width=50)\n",
    "    sequence_list = wrapper.wrap(text=sequence)\n",
    "    fasta = open(filename, \"w\")\n",
    "    fasta.write(\">\")\n",
    "    fasta.write(description)\n",
    "    fasta.write(\"\\n\")\n",
    "    for line in sequence_list:\n",
    "        \n",
    "        fasta.write(line)\n",
    "        fasta.write(\"\\n\")\n",
    "    fasta.close()\n",
    "\n",
    "def candidateProtein(dna_seq):\n",
    "    longest = \"\"\n",
    "    translated = translate(dna_seq)\n",
    "   \n",
    "    for i in translated:\n",
    "        curr_protein = openReadingFrame(translated[i])\n",
    "        if len(curr_protein) > len(longest):\n",
    "            longest = curr_protein\n",
    "    \n",
    "    return longest\n",
    "\n",
    "def readDNAsequence(file_name):\n",
    "    \n",
    "    \n",
    "    # List of valid bases to test against\n",
    "    bases = [\"A\", \"T\", \"C\", \"G\", \"U\"]\n",
    "    base_list = []\n",
    "    fasta = open(file_name, \"r\")\n",
    "    fasta_content = fasta.readlines()\n",
    "    for line in fasta_content:\n",
    "        \n",
    "        # Get rid of any spaces in the line\n",
    "        line = line.rstrip()\n",
    "        \n",
    "        if \">\" in line:\n",
    "            continue\n",
    "        \n",
    "        else:\n",
    "            for base in line:\n",
    "                \n",
    "                if base not in bases:\n",
    "                    raise BadSequenceException(\"Invalid base present\")\n",
    "                \n",
    "                elif base == \"U\":\n",
    "                    base_list.append(\"T\")\n",
    "                \n",
    "                else:\n",
    "                    base_list.append(base) \n",
    "    \n",
    "    final_sequence = ''.join(base_list)\n",
    "    \n",
    "    \n",
    "    return final_sequence\n",
    "\n",
    "def maximalORF(inputfile, outputfile, proteinname):\n",
    "    output = open(outputfile, \"w\")\n",
    "    dna_seq = readDNAsequence(inputfile)\n",
    "    protein = candidateProtein(dna_seq)\n",
    "    writeFASTA(protein, proteinname, outputfile)\n",
    "\n",
    "\n",
    "    "
   ]
  },
  {
   "cell_type": "code",
   "execution_count": 2,
   "metadata": {},
   "outputs": [
    {
     "name": "stdout",
     "output_type": "stream",
     "text": [
      "OK\n"
     ]
    }
   ],
   "source": [
    "# Test code\n",
    "import os\n",
    "import os.path\n",
    "with open(\"test9876348.fas\", \"wt\") as _OUTF:\n",
    "    _OUTF.write(\"> test\\n\")\n",
    "    _OUTF.write(\"ATGACTGCTGGGTAG\\n\")\n",
    "_rv=maximalORF(inputfile=\"test9876348.fas\", outputfile=\"test9876349.fas\",\n",
    "               proteinname=\"test protein\")\n",
    "assert type(_rv) is type(None), \"Function should not return anything; it returns %r\" % _rv\n",
    "_fe=os.path.isfile(\"test9876349.fas\")\n",
    "assert _fe, \"Cannot find output file - has it been created?\"\n",
    "os.remove(\"test9876348.fas\")\n",
    "os.remove(\"test9876349.fas\")\n",
    "print \"OK\""
   ]
  },
  {
   "cell_type": "markdown",
   "metadata": {},
   "source": [
    "# Question 3: Classification of aminoacids"
   ]
  },
  {
   "cell_type": "markdown",
   "metadata": {},
   "source": [
    "### Question 3.a: Reading an aminoacid sequence\n",
    "\n",
    "Write a function called ```readAAsequence``` that takes as its argument the name of a file.  When passed the name of a FASTA file containing an aminoacid sequence, the function should read the file, discard the header and return the sequence as a string."
   ]
  },
  {
   "cell_type": "code",
   "execution_count": 1,
   "metadata": {},
   "outputs": [],
   "source": [
    "# Your code here\n",
    "def readAAsequence(inputfile):\n",
    "    aa = open(inputfile, \"r\")\n",
    "    aa_content = aa.readlines()\n",
    "    sequence_list = []\n",
    "    for line in aa_content:\n",
    "        line = line.rstrip()\n",
    "        if line[0] == \">\":\n",
    "            continue\n",
    "        else:\n",
    "            sequence_list.append(line)\n",
    "    sequence = ''.join(sequence_list)\n",
    "    \n",
    "    return sequence\n",
    "\n",
    "            "
   ]
  },
  {
   "cell_type": "code",
   "execution_count": 2,
   "metadata": {},
   "outputs": [
    {
     "name": "stdout",
     "output_type": "stream",
     "text": [
      "OK\n"
     ]
    }
   ],
   "source": [
    "# Test code\n",
    "import os\n",
    "with open(\"test9876350.fas\", \"wt\") as _OUTF:\n",
    "    _OUTF.write(\"> test\\n\")\n",
    "    _OUTF.write(\"TESTTESTTESTTESTTEST\\n\")\n",
    "_seq=readAAsequence(\"test9876350.fas\")\n",
    "os.remove(\"test9876350.fas\")\n",
    "assert type(_seq) is type(\"\"), \"Return value is not a string: %r\" % _seq\n",
    "print \"OK\""
   ]
  },
  {
   "cell_type": "markdown",
   "metadata": {},
   "source": [
    "### Question 3.b: Aminoacid usage statistics\n",
    "\n",
    "Write a function called ```AAtypes``` that takes as its argument a string containing a sequence of aminoacids. The function should compute, for each protein, the fraction of aminoacids that are polar, small and hydrophobic and return that as a list. For instance, if the chain of a protein contains 35% polar residues, 15% small and 50% hydrophobic residues, the function should return ```[0.35, 0.15, 0.5]``` (the order is important). Refer to the Venn diagram in the Assessment Background file for the classification of aminoacids.  Note that some aminoacids belong to more than one category, so that the sum of these three numbers can be larger than 1."
   ]
  },
  {
   "cell_type": "code",
   "execution_count": 3,
   "metadata": {},
   "outputs": [],
   "source": [
    "# Your code here\n",
    "def AAtypes(sequence):\n",
    "    \n",
    "    ratio = []\n",
    "    total = {\"Polar\": 0.0, \"Small\": 0.0, \"Hydrophobic\": 0.0}\n",
    "    aa_dict = {\"Polar\":       [\"C\", \"T\", \"S\", \"N\", \"Q\", \"D\", \"E\", \"R\", \n",
    "                               \"K\", \"H\", \"W\", \"Y\"],\n",
    "               \"Small\":       [\"P\", \"V\", \"A\", \"G\", \"S\", \"T\", \"D\", \"N\"],\n",
    "               \"Hydrophobic\": [\"K\", \"H\", \"W\", \"Y\", \"F\", \"T\", \"C\", \"A\",\n",
    "                               \"M\", \"V\", \"L\", \"I\"]\n",
    "               }\n",
    "    for aa in sequence:\n",
    "        aa = aa.upper()\n",
    "        if aa in aa_dict[\"Polar\"]:\n",
    "            total[\"Polar\"] += 1\n",
    "        if aa in aa_dict[\"Small\"]:\n",
    "            total[\"Small\"] += 1\n",
    "        if aa in aa_dict[\"Hydrophobic\"]:\n",
    "            \n",
    "            total[\"Hydrophobic\"] += 1\n",
    "    \n",
    "    ratio.append(total[\"Polar\"]/float(len(sequence)))\n",
    "    ratio.append(total[\"Small\"]/float(len(sequence)))\n",
    "    ratio.append(total[\"Hydrophobic\"]/float(len(sequence)))\n",
    "    \n",
    "    return ratio\n",
    "\n",
    "    \n",
    "\n",
    "\n",
    "\n"
   ]
  },
  {
   "cell_type": "code",
   "execution_count": 4,
   "metadata": {},
   "outputs": [
    {
     "name": "stdout",
     "output_type": "stream",
     "text": [
      "OK\n"
     ]
    }
   ],
   "source": [
    "# Test code\n",
    "_aatypes=AAtypes(\"TESTTESTTESTTESTTEST\")\n",
    "assert type(_aatypes) is type([]), \"Return value is not a list: %r\" % _aatypes\n",
    "assert len(_aatypes)==3, \"Returned list should contain 3 values\"\n",
    "print \"OK\""
   ]
  },
  {
   "cell_type": "markdown",
   "metadata": {},
   "source": [
    "### Question 3.c: Processing multiple sequences\n",
    "Write a function called ```AAtypetable``` that takes a list of strings called ```filelist``` and a separate string called ```outputfile```. Each element of ```filelist``` represents the name of a FASTA file containing an aminoacid sequence. For each filename, the function should load the sequence, compute the fraction of aminoacids that are polar, small and/or hydrophobic, and finally output this to the text file specified by ```outputfile``` in TSV (tab-separated values) tabular format. The table should contain, on each line, the name of the input file and then the percentages of polar, small and hydrophobic residues (in that order). Include a comment at the beginning of the file that starts with a ```#``` and specifies the content of each column, as follows (numbers shown here are random):\n",
    "```\n",
    "# Filename     Polar     Small     Hydro\n",
    "Pxxx.fas       0.52      0.22        0.33\n",
    "Pyyy.fas       0.47      0.35        0.38\n",
    "...\n",
    "```\n",
    "\n",
    "Include at least two decimal places in your output. Do not worry if the columns do not all look aligned; as long as consecutive values on the same line are separated by a tab, that's fine. If some of the files in ```filelist``` do not exist, contain the wrong data or otherwise generate an error, your function should ignore those files and continue. However, the names of those files should be returned in an output lists. If all files are processed without errors your function should return an empty list.\n"
   ]
  },
  {
   "cell_type": "code",
   "execution_count": 1,
   "metadata": {},
   "outputs": [],
   "source": [
    "# Your code here\n",
    "def readAAsequence(inputfile):\n",
    "    aa = open(inputfile, \"r\")\n",
    "    aa_content = aa.readlines()\n",
    "    sequence_list = []\n",
    "    for line in aa_content:\n",
    "        line = line.rstrip()\n",
    "        if line[0] == \">\":\n",
    "            continue\n",
    "        else:\n",
    "            sequence_list.append(line)\n",
    "    sequence = ''.join(sequence_list)\n",
    "    \n",
    "    return sequence\n",
    "def AAtypes(sequence):\n",
    "    \n",
    "    ratio = []\n",
    "    total = {\"Polar\": 0.0, \"Small\": 0.0, \"Hydrophobic\": 0.0}\n",
    "    aa_dict = {\"Polar\":       [\"C\", \"T\", \"S\", \"N\", \"Q\", \"D\", \"E\", \"R\", \n",
    "                               \"K\", \"H\", \"W\", \"Y\"],\n",
    "               \"Small\":       [\"P\", \"V\", \"A\", \"G\", \"S\", \"T\", \"D\", \"N\"],\n",
    "               \"Hydrophobic\": [\"K\", \"H\", \"W\", \"Y\", \"F\", \"T\", \"C\", \"A\",\n",
    "                               \"M\", \"V\", \"L\", \"I\"]\n",
    "               }\n",
    "    for aa in sequence:\n",
    "        aa=aa.upper()\n",
    "        if aa in aa_dict[\"Polar\"]:\n",
    "            total[\"Polar\"] += 1\n",
    "        if aa in aa_dict[\"Small\"]:\n",
    "            total[\"Small\"] += 1\n",
    "        if aa in aa_dict[\"Hydrophobic\"]:\n",
    "            \n",
    "            total[\"Hydrophobic\"] += 1\n",
    "    \n",
    "    ratio.append(total[\"Polar\"]/float(len(sequence)))\n",
    "    ratio.append(total[\"Small\"]/float(len(sequence)))\n",
    "    ratio.append(total[\"Hydrophobic\"]/float(len(sequence)))\n",
    "    \n",
    "    return ratio\n",
    "\n",
    "def AAtypetable(filelist, outputfile):\n",
    "    \n",
    "    output = open(outputfile, \"w\")\n",
    "            \n",
    "        \n",
    "    output.write(\"# Filename\\tPolar\\tSmall\\tHydro\\n\")\n",
    "    \n",
    "    error_list = []\n",
    "    for file_name in filelist:\n",
    "        \n",
    "        try:\n",
    "            \n",
    "            curr_sequence = readAAsequence(file_name)\n",
    "        except:\n",
    "            error_list.append(file_name)\n",
    "            continue\n",
    "        try:\n",
    "            ratio = AAtypes(curr_sequence)\n",
    "        except:\n",
    "            error_list.append(file_name)\n",
    "            continue\n",
    "        output.write(file_name + \"\\t\" + str(ratio[0]) + \"\\t\" + str(ratio[1]) + \"\\t\" + str(ratio[2])+\"\\n\")\n",
    "        \n",
    "        \n",
    "    output.close()    \n",
    "    \n",
    "    return error_list\n",
    "\n",
    "\n",
    "\n",
    "\n"
   ]
  },
  {
   "cell_type": "code",
   "execution_count": 2,
   "metadata": {},
   "outputs": [
    {
     "name": "stdout",
     "output_type": "stream",
     "text": [
      "OK\n"
     ]
    }
   ],
   "source": [
    "# Test code\n",
    "import os\n",
    "import os.path\n",
    "for fname in [\"_Ptest123.fas\", \"_Ptest456.fas\"]:\n",
    "    with open(fname, \"wt\") as _OUTF:\n",
    "        _OUTF.write(\"> test\\n\")\n",
    "        _OUTF.write(\"TESTTESTTESTTESTTEST\\n\")\n",
    "_rv=AAtypetable(filelist=['_Ptest123.fas','_Ptest456.fas'], outputfile=\"_table_test789.txt\")\n",
    "assert type(_rv) is type([]), \"Function should return a list; it returns %r\" % _rv\n",
    "_fe=os.path.isfile(\"_table_test789.txt\")\n",
    "assert _fe, \"Cannot find output file - has it been created?\"\n",
    "os.remove(\"_Ptest123.fas\")\n",
    "os.remove(\"_Ptest456.fas\")\n",
    "os.remove(\"_table_test789.txt\")\n",
    "print \"OK\""
   ]
  },
  {
   "cell_type": "markdown",
   "metadata": {},
   "source": [
    "# Question 4: Clustering proteins based on aminoacid usage"
   ]
  },
  {
   "cell_type": "markdown",
   "metadata": {},
   "source": [
    "### Question 4.a: Computing the Euclidean distance"
   ]
  },
  {
   "cell_type": "markdown",
   "metadata": {},
   "source": [
    "Write a function called ```distance``` that takes two lists of ```float``` of equal length as its arguments. The function should return the Euclidean distance between the two lists, considered as vectors in a space of dimensionality equal to the length of the lists. That is to say, it should compute the element by element difference between the two lists, square that, sum all the squares and take a square root of the final sum (Eq 1 on this [wiki page](https://en.wikipedia.org/wiki/Euclidean_distance)). Your function should raise a ```DimensionalityException``` if the two lists passed are not of the same length, or if they are both empty; otherwise it should return a ```float```."
   ]
  },
  {
   "cell_type": "code",
   "execution_count": 1,
   "metadata": {},
   "outputs": [],
   "source": [
    "# Run this cell to define the exception\n",
    "class DimensionalityException(Exception):\n",
    "    pass"
   ]
  },
  {
   "cell_type": "code",
   "execution_count": 2,
   "metadata": {},
   "outputs": [],
   "source": [
    "# Your code here\n",
    "import math\n",
    "def distance(list1, list2):\n",
    "    if len(list1) != len(list2):\n",
    "        raise DimensionalityException(\"The two lists are not of the same length\")\n",
    "    if len(list1) == 0 or len(list2) == 0:\n",
    "        raise DimensionalityException(\"One or both of the lists are empty\")\n",
    "    final_list = []\n",
    "    for index, item in enumerate(list1):\n",
    "        curr = (float(item) - float(list2[index]))**2\n",
    "        final_list.append(curr)\n",
    "    ting = sum(final_list)\n",
    "    answer = math.sqrt(ting)\n",
    "    \n",
    "    return answer\n",
    "\n",
    "\n",
    "        "
   ]
  },
  {
   "cell_type": "code",
   "execution_count": 3,
   "metadata": {},
   "outputs": [
    {
     "name": "stdout",
     "output_type": "stream",
     "text": [
      "OK\n"
     ]
    }
   ],
   "source": [
    "# Test code\n",
    "_dist=distance([1.0, 2.0], [1.5, -1.0])\n",
    "assert type(_dist) is type(0.0), \"Return value is not a float: %r\" % _dist\n",
    "print \"OK\""
   ]
  },
  {
   "cell_type": "markdown",
   "metadata": {},
   "source": [
    "### Question 4.b: Reading data in tabular format\n",
    "\n",
    "Write a function called ```readTable``` that takes a string called ```filename``` as its argument. The function should read from the file specified in the argument a TSV table formatted as described at the end of Question 3 (you do not necessarily have to answer Question 3 in order to do this; you can create one such table containing arbitrary values using an editor). The function should return a dictionary with the filenames as its keys; the value associated to each key should be a list of floats, containing in order the percentages of polar, small and hydrophobic AAs, as listed in the table. So for instance, if the argument file contains the table used as an example in Question 3, ```readTable``` should return a dictionary containing at least the following items: \n",
    "```\n",
    "{ \"Pxxx.fas\": [0.52, 0.22, 0.33],  \"Pyyy.fas\": [0.47, 0.35, 0.38],\n",
    "...}\n",
    "```\n"
   ]
  },
  {
   "cell_type": "code",
   "execution_count": 4,
   "metadata": {},
   "outputs": [],
   "source": [
    "# Your code here\n",
    "import csv\n",
    "def readTable(filename):\n",
    "    final_dict = {}\n",
    "    with open(filename) as tsvfile:\n",
    "        reader = csv.reader(tsvfile, delimiter='\\t')\n",
    "        for row in reader:\n",
    "            if row[0][0] == \"#\":\n",
    "                continue\n",
    "            curr_list = [row[1], row[2], row[3]]\n",
    "            final_dict[row[0]] = curr_list\n",
    "            curr_list =[]\n",
    "        return final_dict\n"
   ]
  },
  {
   "cell_type": "code",
   "execution_count": 5,
   "metadata": {},
   "outputs": [
    {
     "name": "stdout",
     "output_type": "stream",
     "text": [
      "OK\n"
     ]
    }
   ],
   "source": [
    "# Test code\n",
    "import os\n",
    "with open(\"_testTable123.tsv\", \"wt\") as OUTF:\n",
    "    OUTF.write(\"# Filename\\tPolar\\tSmall\\tHydro\\n\")\n",
    "    OUTF.write(\"Pxxx.fas\\t0.52\\t0.22\\t0.33\\n\")\n",
    "    OUTF.write(\"Pyyy.fas\\t0.47\\t0.35\\t0.38\\n\")\n",
    "_tab=readTable(filename=\"_testTable123.tsv\")\n",
    "assert type(_tab) is type({}), \"Return value is not a dict: %r\" % _tab\n",
    "assert (\"Pxxx.fas\" in _tab) and (\"Pyyy.fas\" in _tab), \"Return dic missing keys\"\n",
    "os.remove(\"_testTable123.tsv\")\n",
    "print \"OK\""
   ]
  },
  {
   "cell_type": "markdown",
   "metadata": {},
   "source": [
    "### Question 4.c: Computing a distance matrix\n",
    "\n",
    "Write a function called ```distanceMatrix``` that takes as its argument two strings called ```inputfile``` and ```outputfile```, used to pass the names of the input and output file. The function should read from the input file a TSV table created as specified at the end of Question 3 (again, you do not necessarily have to answer Question 3 in order to do this; you can create a table with made-up data using an editor). Suppose data for N proteins are read. Your function should then create an output TSV file containing a matrix of size NxN (plus one row and one column for labels). The rows and columns of the matrix should correspond to individual protein file names, so that each matrix entry corresponds to a pair of proteins, say Pxxx and Pyyy. Such entry should contain the distance between the ```[polar, small, hydro]``` lists (considered as 3 dimensional vectors) corresponding to Pxxx and Pyyy. If done correctly, your matrix should be symmetric and have zeroes on the diagonal. Format the matrix with row and column labels as in the following 3-protein example (that contains random numbers):\n",
    "```\n",
    "# Filename      Pxxx.fas  Pyyy.fas  Pzzz.fas\n",
    "Pxxx.fas        0.0       2.3       1.5\n",
    "Pyyy.fas        2.3       0.0       1.8 \n",
    "Pzzz.fas        1.5       1.8       0.0\n",
    "\n",
    "```\n",
    "The exact alignment is not important, as long as the data are separated by tabs and the first line starts with a hash (```#```). Likewise, the order in which the proteins are listed is not important, provided the same order is used along the rows and along the columns. Your function should not return any value."
   ]
  },
  {
   "cell_type": "code",
   "execution_count": 6,
   "metadata": {},
   "outputs": [],
   "source": [
    "# Your code here\n",
    "\n",
    "import math\n",
    "import csv\n",
    "def readTable(filename):\n",
    "    final_dict = {}\n",
    "    with open(filename) as tsvfile:\n",
    "        reader = csv.reader(tsvfile, delimiter='\\t')\n",
    "        for row in reader:\n",
    "            if row[0][0] == \"#\":\n",
    "                \n",
    "                continue\n",
    "            curr_list = [row[1], row[2], row[3]]\n",
    "            final_dict[row[0]] = curr_list\n",
    "            curr_list =[]\n",
    "        return final_dict\n",
    "\n",
    "\n",
    "def distance(list1, list2):\n",
    "    if len(list1) != len(list2):\n",
    "        raise DimensionalityException(\"The two lists are not of the same length\")\n",
    "    if len(list1) == 0 or len(list2) == 0:\n",
    "        raise DimensionalityException(\"One or both of the lists are empty\")\n",
    "    final_list = []\n",
    "    for index, item in enumerate(list1):\n",
    "        curr = (float(item) - float(list2[index]))**2\n",
    "        final_list.append(curr)\n",
    "    ting = sum(final_list)\n",
    "    answer = math.sqrt(ting)\n",
    "    \n",
    "    return answer\n",
    "\n",
    "\n",
    "def distanceMatrix(inputfile, outputfile):\n",
    "    my_dict = readTable(inputfile)\n",
    "    x_list = []\n",
    "    curr_row =[]\n",
    "    output = open(outputfile, \"w\")\n",
    "    \n",
    "    \n",
    "    #df=pd.DataFrame(data, columns=['xcord', 'ycord', 'zcord'],index=proteins)\n",
    "    \n",
    "    output.write(\"# Filename\\t\")\n",
    "    for i in my_dict:\n",
    "        output.write(\"{}\\t\".format(i))\n",
    "    output.write(\"\\n\")\n",
    "    for i in my_dict:\n",
    "        output.write(\"{}\\t\".format(i))\n",
    "        for x in my_dict:\n",
    "            x_list.append(x)\n",
    "            curr_row.append(distance(my_dict[i], my_dict[x]))\n",
    "        \n",
    "        for value in curr_row:\n",
    "            output.write(\"{}\\t\".format(value))\n",
    "            \n",
    "        output.write(\"\\n\")\n",
    "        curr_row =[]\n",
    "    \n",
    "    output.close()\n",
    "            \n",
    "        \n",
    "    \n",
    "\n",
    "    \n"
   ]
  },
  {
   "cell_type": "code",
   "execution_count": 7,
   "metadata": {},
   "outputs": [
    {
     "name": "stdout",
     "output_type": "stream",
     "text": [
      "OK\n"
     ]
    }
   ],
   "source": [
    "# Test code\n",
    "import os\n",
    "import os.path\n",
    "with open(\"_testTable123.tsv\", \"wt\") as OUTF:\n",
    "    OUTF.write(\"# Filename\\tPolar\\tSmall\\tHydro\\n\")\n",
    "    OUTF.write(\"Pxxx.fas\\t0.52\\t0.22\\t0.33\\n\")\n",
    "    OUTF.write(\"Pyyy.fas\\t0.47\\t0.35\\t0.38\\n\")\n",
    "_rv=distanceMatrix(inputfile=\"_testTable123.tsv\", outputfile=\"_testTable123out.tsv\")\n",
    "assert type(_rv) is type(None),\"Function should not return any value; it returns %r\" % _rv\n",
    "_fe=os.path.isfile(\"_testTable123out.tsv\")\n",
    "assert _fe, \"Cannot find output file - has it been created?\"\n",
    "with open(\"_testTable123out.tsv\", \"rt\") as INF:\n",
    "    _fl=INF.readline()\n",
    "assert _fl[0]=='#', \"First line of output file does not start with a #\"\n",
    "os.remove(\"_testTable123.tsv\")\n",
    "os.remove(\"_testTable123out.tsv\")\n",
    "print \"OK\""
   ]
  },
  {
   "cell_type": "markdown",
   "metadata": {},
   "source": [
    "### An application of this type of analysis"
   ]
  },
  {
   "cell_type": "markdown",
   "metadata": {},
   "source": [
    "Now that you have this code running, try downloading a few FASTA sequences for the [antifreeze proteins](https://pdb101.rcsb.org/motm/120) of cold water fish. Then download the sequences of other families of related proteins (eg Hemoglobin, Insulin and P53) from other species. Process these sequences according to Questions 3 and 4. Have a look at the resulting distance matrix - is any of these groups of proteins characterised by a distinctive pattern of usage of aminoacids? NOTE: no marks are assigned for this section."
   ]
  },
  {
   "cell_type": "markdown",
   "metadata": {
    "collapsed": true
   },
   "source": [
    "## Examiners\n",
    "\n",
    "Dr Fabrizio Smeraldi *(f.smeraldi@qmul.ac.uk)*; Prof Conrad Bessant *(c.bessant@qmul.ac.uk)*"
   ]
  },
  {
   "cell_type": "code",
   "execution_count": null,
   "metadata": {},
   "outputs": [],
   "source": []
  },
  {
   "cell_type": "code",
   "execution_count": null,
   "metadata": {},
   "outputs": [],
   "source": []
  }
 ],
 "metadata": {
  "kernelspec": {
   "display_name": "Python 2",
   "language": "python",
   "name": "python2"
  },
  "language_info": {
   "codemirror_mode": {
    "name": "ipython",
    "version": 2
   },
   "file_extension": ".py",
   "mimetype": "text/x-python",
   "name": "python",
   "nbconvert_exporter": "python",
   "pygments_lexer": "ipython2",
   "version": "2.7.11"
  }
 },
 "nbformat": 4,
 "nbformat_minor": 2
}
