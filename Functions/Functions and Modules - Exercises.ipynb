{
 "cells": [
  {
   "cell_type": "markdown",
   "metadata": {},
   "source": [
    "### Maximum of two"
   ]
  },
  {
   "cell_type": "markdown",
   "metadata": {},
   "source": [
    "Define a function ```max_of_two()``` that takes two numbers as arguments and returns the largest of them. Use the if-then-else construct available in Python. (It is true that Python has the max() function built in, but writing it yourself is nevertheless a good exercise.)\n",
    "\n",
    "From http://www.ling.gu.se/~lager/python_exercises.html"
   ]
  },
  {
   "cell_type": "markdown",
   "metadata": {},
   "source": [
    "### Maximum of three"
   ]
  },
  {
   "cell_type": "markdown",
   "metadata": {},
   "source": [
    "Define a function ```max_of_three()``` that takes three numbers as arguments and returns the largest of them. Use if-then-else.\n",
    "\n",
    "From http://www.ling.gu.se/~lager/python_exercises.html"
   ]
  },
  {
   "cell_type": "code",
   "execution_count": 3,
   "metadata": {},
   "outputs": [
    {
     "name": "stdout",
     "output_type": "stream",
     "text": [
      "5\n"
     ]
    }
   ],
   "source": [
    "def max_of_three(x,y,z):\n",
    "    if x > y and x > z:\n",
    "        return x\n",
    "    elif y > x and y > z:\n",
    "            return y\n",
    "    else:\n",
    "        return z\n",
    "print max_of_three(5,2,3)"
   ]
  },
  {
   "cell_type": "markdown",
   "metadata": {},
   "source": [
    "### Maximum of many"
   ]
  },
  {
   "cell_type": "markdown",
   "metadata": {},
   "source": [
    "Define a function ```listMax()``` that takes a list as argument and returns a tuple with the maximum and its index in the list.\n",
    "\n",
    "Adapted from http://www.ling.gu.se/~lager/python_exercises.html"
   ]
  },
  {
   "cell_type": "code",
   "execution_count": 9,
   "metadata": {},
   "outputs": [
    {
     "name": "stdout",
     "output_type": "stream",
     "text": [
      "(7, 2)\n"
     ]
    }
   ],
   "source": [
    "def listMax(x):\n",
    "    largest = x[0]\n",
    "    for i in x:\n",
    "        if i > largest:\n",
    "            largest = i\n",
    "    result = (largest, x.index(largest))\n",
    "    return result\n",
    "\n",
    "print listMax([5,2,7,4])\n",
    "        "
   ]
  },
  {
   "cell_type": "markdown",
   "metadata": {},
   "source": [
    "### Roll your own"
   ]
  },
  {
   "cell_type": "markdown",
   "metadata": {},
   "source": [
    "Take the three functions you coded above and put them in a file called ```mymax.py``` to make a module. Then try writing a simple program that starts with \n",
    "```\n",
    "import mymax\n",
    "```\n",
    "and calls the functions you wrote as ```mymax.max_of_three()```, etc"
   ]
  },
  {
   "cell_type": "markdown",
   "metadata": {},
   "source": [
    "### Histogram"
   ]
  },
  {
   "cell_type": "markdown",
   "metadata": {},
   "source": [
    "Define a procedure ```histogram()``` that takes a list of integers and prints a histogram to the screen. For example, ```histogram([4, 9, 7])``` should print the following:\n",
    "```\n",
    "****\n",
    "*********\n",
    "*******\n",
    "```\n",
    "Note: a procedure is a function that does not return any value, it simply *does* something.\n",
    "\n",
    "From http://www.ling.gu.se/~lager/python_exercises.html"
   ]
  },
  {
   "cell_type": "code",
   "execution_count": 13,
   "metadata": {},
   "outputs": [
    {
     "name": "stdout",
     "output_type": "stream",
     "text": [
      "****\n",
      "*********\n",
      "*******\n"
     ]
    }
   ],
   "source": [
    "def histogram(x):\n",
    "    for i in x:\n",
    "        print \"*\"*i\n",
    "histogram([4,9,7])\n"
   ]
  },
  {
   "cell_type": "markdown",
   "metadata": {},
   "source": [
    "### Got it all backwards"
   ]
  },
  {
   "cell_type": "markdown",
   "metadata": {},
   "source": [
    "Define a function ```reverse()``` that takes a string as an argument and returns it reversed. For instance,   ```reverse(\"I am testing\")``` should return the string \"gnitset ma I\".\n",
    "\n",
    "\n",
    "From http://www.ling.gu.se/~lager/python_exercises.html"
   ]
  },
  {
   "cell_type": "code",
   "execution_count": 16,
   "metadata": {},
   "outputs": [
    {
     "name": "stdout",
     "output_type": "stream",
     "text": [
      "gnitset ma I\n"
     ]
    }
   ],
   "source": [
    "def reverse(x):\n",
    "    y = list(x)\n",
    "    y.reverse()\n",
    "    z = \"\".join(y)\n",
    "    return z\n",
    "print reverse(\"I am testing\")"
   ]
  },
  {
   "cell_type": "markdown",
   "metadata": {},
   "source": [
    "### Palindromes"
   ]
  },
  {
   "cell_type": "markdown",
   "metadata": {},
   "source": [
    "A palindrome is a word or sentence that is unaltered when read backwards.\n",
    "\n",
    "Write a palindrome recognizer ```isPalindrome()``` that accepts phrase palindromes such as \"Go hang a salami I'm a lasagna hog.\", \"Was it a rat I saw?\", \"Step on no pets\", \"Sit on a potato pan, Otis\", \"Lisa Bonet ate no basil\", \"Satan, oscillate my metallic sonatas\", \"I roamed under it as a tired nude Maori\", \"Rise to vote sir\", or the exclamation \"Dammit, I'm mad!\". Note that punctuation, capitalization, and spacing are usually ignored. \n",
    "\n",
    "Your function should return ```True``` for palindromes and ```False``` otherwise. Your function should use the ```reverse()``` function you just programmed to do its job.\n",
    "\n",
    "From http://www.ling.gu.se/~lager/python_exercises.html"
   ]
  },
  {
   "cell_type": "code",
   "execution_count": 22,
   "metadata": {},
   "outputs": [
    {
     "name": "stdout",
     "output_type": "stream",
     "text": [
      "['a', 'n', 'o', 't', 'h', 'e', 'r', 'o', 'n', 'e']\n",
      "['e', 'n', 'o', 'r', 'e', 'h', 't', 'o', 'n', 'a']\n"
     ]
    },
    {
     "data": {
      "text/plain": [
       "False"
      ]
     },
     "execution_count": 22,
     "metadata": {},
     "output_type": "execute_result"
    }
   ],
   "source": [
    "def isPalindrome(x):\n",
    "    x = x.lower()\n",
    "    x = x.replace(\" \", \"\")\n",
    "    x = x.repalce(\",\", \"\")\n",
    "    x = x.replace(\"!\", \"\")\n",
    "    y = list(x)\n",
    "    a = [i for i in y]\n",
    "    y.reverse()\n",
    "    print a\n",
    "    print y\n",
    "    if a == y:\n",
    "        return True\n",
    "    else: \n",
    "        return False\n",
    "    \n",
    "    \n",
    "isPalindrome(\"another one\")\n"
   ]
  },
  {
   "cell_type": "markdown",
   "metadata": {},
   "source": [
    "### Default arguments and calling styles"
   ]
  },
  {
   "cell_type": "markdown",
   "metadata": {},
   "source": [
    "Try calling the procedure below in the following ways, that are all legal, and see what happens:\n",
    "```\n",
    "aProc(\"eggs\", \"bacon\") # specify both arguments (the usual way)\n",
    "aProc() # use default values\n",
    "aProc(\"goo\") # only specifies first argument\n",
    "aProc(second=\"more spam\") # only specifies second argument\n",
    "pet=[\"Humpty\", \"Dumpty\"]\n",
    "aProc(*pet) # both arguments as a list \n",
    "meg_and_mog={'first': 'Meg', 'second': 'Mog'} \n",
    "aProc(**meg_and_mog) # both arguments as a dictionary\n",
    "```"
   ]
  },
  {
   "cell_type": "code",
   "execution_count": 6,
   "metadata": {},
   "outputs": [],
   "source": [
    "def aProc(first=\"spam\", second=\"ham\"):\n",
    "    \"\"\" This procedure has default values for its arguments \"\"\"\n",
    "    print \"The first argument is: \", first\n",
    "    print \"And the second is    : \", second\n",
    "    print \"---------------------------------\"\n",
    "aproc"
   ]
  },
  {
   "cell_type": "markdown",
   "metadata": {},
   "source": [
    "### Lingo"
   ]
  },
  {
   "cell_type": "markdown",
   "metadata": {},
   "source": [
    "\n",
    "\n",
    "In a game of Lingo, there is a hidden word, five characters long. The object of the game is to find this word by guessing, and in return receive two kinds of clues: 1) the characters that are fully correct, with respect to identity as well as to position, and 2) the characters that are indeed present in the word, but which are placed in the wrong position. Write a program with which one can play Lingo. Use square brackets to mark characters correct in the sense of 1), and ordinary parentheses to mark characters correct in the sense of 2). For the sake of the exercise, your program should pass each character in the user input to a function that \"packages\" it in brackets (or not). In turn, this should use two separate functions to check if either 1) or 2) apply.\n",
    "\n",
    "Assuming, for example, that the program conceals the word \"tiger\", you should be able to interact with it in the following way:\n",
    "\n",
    "```\n",
    "snake\n",
    "Clue: snak(e)\n",
    "least\n",
    "Clue: l(e)as(t)\n",
    "times\n",
    "Clue: [t][i]m[e]s\n",
    "tiger\n",
    "Clue: [t][i][g][e][r]\n",
    "```\n",
    "\n",
    "From http://www.ling.gu.se/~lager/python_exercises.html"
   ]
  },
  {
   "cell_type": "code",
   "execution_count": 160,
   "metadata": {},
   "outputs": [
    {
     "name": "stdout",
     "output_type": "stream",
     "text": [
      "[t] (t)pa\n"
     ]
    }
   ],
   "source": [
    "answer = \"tiger\"\n",
    "guess = \"t tpa\"\n",
    "clue = list(guess)\n",
    "clue2 = list(guess)\n",
    "clue_test = [0,0,0,0,0]\n",
    "\n",
    "\n",
    "def is_in(answer,guess, clue_test):\n",
    "    \n",
    "    answer = list(answer)\n",
    "    guess = list(guess)\n",
    "    \n",
    "    for i in range(len(guess)):\n",
    "        if guess[i] in answer:\n",
    "            \n",
    "            if clue_test[i] == 2:\n",
    "                \n",
    "                pass\n",
    "            else:\n",
    "                clue_test[i] = 1\n",
    "\n",
    "    return clue_test\n",
    "    \n",
    "def is_position(answer, guess, clue_test):\n",
    "    \n",
    "    answer = list(answer)\n",
    "    guess = list(guess)\n",
    "    for i in guess:\n",
    "        if i in answer and guess.index(i) == answer.index(i):\n",
    "            \n",
    "            clue_test[guess.index(i)] = 2\n",
    "            \n",
    "        else:\n",
    "            \n",
    "            guess[guess.index(i)] = ' '\n",
    "                \n",
    "       \n",
    "    return clue_test\n",
    "                    \n",
    "\n",
    "clue_test = is_position(answer, guess, clue_test)\n",
    "\n",
    "clue_test = is_in(answer, guess, clue_test)\n",
    "\n",
    "\n",
    "for i in range(len(clue_test)):\n",
    "    \n",
    "    if clue_test[i] == 1:\n",
    "        clue[i] = \"(\"+clue[i]+\")\"\n",
    "    \n",
    "    elif clue_test[i] == 2:\n",
    "        clue[i] = \"[\"+clue[i]+\"]\"\n",
    "\n",
    " \n",
    "# Magic one line code\n",
    "\n",
    "clue=''.join([\"[\"+str(guess[x])+\"]\" if guess[x]==answer[x] \n",
    "      else \"(\"+str(guess[x])+\")\" if guess[x] in answer   \n",
    "      else guess[x] for x in range(len(guess))])\n",
    "        \n",
    "print clue\n",
    "        \n",
    "\n",
    "\n",
    "\n",
    "\n",
    "            "
   ]
  },
  {
   "cell_type": "markdown",
   "metadata": {},
   "source": [
    "### Chicken out"
   ]
  },
  {
   "cell_type": "markdown",
   "metadata": {},
   "source": [
    "You now have all the tools and the knowledge to do fairly complex things. Try this one: download the entire chicken proteome from:\n",
    "\n",
    "ftp://ftp.uniprot.org/pub/databases/uniprot/current_release/knowledgebase/reference_proteomes/\n",
    "\n",
    "*Gallus gallus* is entry ```U000000539_*.fasta.gz```, where ```*``` stands for the current revision number. Download the file, unzip it using ```gunzip``` and rename it ```CHICK.fasta``` for convenience.\n",
    "\n",
    "The file contains all chicken proteins listed one after the other in FASTA format (try viewing part of it with the command ```more CHICK.fasta```).\n",
    "\n",
    "Write a program that computes the average length of a chicken  protein and the frequency of the various aminoacids in the chicken genome (that you can print out as a nice histogram if you want). You can recycle bits and pieces of code written so far, packaging them into separate functions or possibly even a module. Keep in mind that chicken proteins are listed one after the other in the same file, so you should stop reading a protein sequence when a new header is found (instead than when the file finishes), without closing the file. Do not attempt to read the entire file in one go; process it line by line.\n"
   ]
  },
  {
   "cell_type": "markdown",
   "metadata": {},
   "source": [
    "fasta = open(\"chick.txt\")\n",
    "lines = fasta.readlines()\n",
    "\n",
    "for x in lines:\n",
    "    protein_lengths = []\n",
    "    protein_count = 0\n",
    "    if \">\" in x:\n",
    "        protein_lengths.append(protein_count)\n",
    "        protein_ count = 0\n",
    "        continue\n",
    "    else:\n",
    "        for i in x:\n",
    "            protein_count += 1\n",
    "\n",
    "print mean(protein_lengths)\n",
    "        \n",
    "\n",
    "\n"
   ]
  },
  {
   "cell_type": "code",
   "execution_count": 180,
   "metadata": {},
   "outputs": [
    {
     "name": "stdout",
     "output_type": "stream",
     "text": [
      "558.244368375\n",
      "{'A': 722660, 'C': 235716, 'E': 709463, 'D': 486488, 'G': 664263, 'F': 363917, 'I': 456582, 'H': 257963, 'K': 591556, 'M': 225718, 'L': 971789, 'N': 380700, 'Q': 466009, 'P': 604438, 'S': 836951, 'R': 570704, 'T': 532894, 'W': 129427, 'V': 624266, 'Y': 280295}\n"
     ]
    }
   ],
   "source": [
    "aa_count = {'A': 0, 'R': 0, 'N': 0, 'D': 0, 'C': 0, 'Q': 0, 'E': 0, 'G':0,\n",
    "           'H': 0, 'I': 0, 'L': 0, 'K': 0, 'M': 0, 'F': 0, 'P': 0, 'S': 0,\n",
    "           'T': 0, 'W': 0, 'Y': 0, 'V': 0}\n",
    "\n",
    "fasta = open(\"chick.txt\")\n",
    "lines = fasta.readlines()\n",
    "protein_count = 0.0\n",
    "protein_lengths = [] \n",
    "for x in lines:\n",
    "    if \">\" in x:\n",
    "        protein_lengths.append(protein_count)\n",
    "        protein_count = 0.0\n",
    "    else:\n",
    "        for i in x:\n",
    "            if i in aa_count:\n",
    "                aa_count[i] += 1\n",
    "                protein_count += 1.0\n",
    "            else:\n",
    "                continue\n",
    "            \n",
    "print reduce(lambda x, y: x + y, protein_lengths) / len(protein_lengths)\n",
    "print aa_count\n",
    "    "
   ]
  },
  {
   "cell_type": "code",
   "execution_count": null,
   "metadata": {},
   "outputs": [],
   "source": []
  }
 ],
 "metadata": {
  "kernelspec": {
   "display_name": "Python 2",
   "language": "python",
   "name": "python2"
  },
  "language_info": {
   "codemirror_mode": {
    "name": "ipython",
    "version": 2
   },
   "file_extension": ".py",
   "mimetype": "text/x-python",
   "name": "python",
   "nbconvert_exporter": "python",
   "pygments_lexer": "ipython2",
   "version": "2.7.5"
  }
 },
 "nbformat": 4,
 "nbformat_minor": 1
}
